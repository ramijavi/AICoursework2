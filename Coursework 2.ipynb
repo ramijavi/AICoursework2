{
 "cells": [
  {
   "cell_type": "markdown",
   "metadata": {},
   "source": [
    "# Coursework 2\n",
    "\n",
    "\n",
    "Author: Javier Ramirez\n",
    "\n",
    "Date: 13/01/2020"
   ]
  },
  {
   "cell_type": "markdown",
   "metadata": {},
   "source": [
    "## Introduction\n",
    "\n",
    "On the first coursework of this class, I created and trained an Artifical Neural Network to perform multiclass classification on the Keras Fashion-MNIST database. After experimenting with different hyper-parameter values, the ANN was optimized to achieve the most accurate training possible. In the end, the highest test accuracy obtained was 89%. Although this proved substantial improvement from the first test results, we came to the conclusion that the model used was not ideal for the type of task we assigned to it, as an accuracy of 89% would not be reliable enough for any real applications.\n",
    "\n",
    "This second coursework will be a continuation of the first one, and our goal of creating a model that achieves the highest accuracy possible remains the same. However, this time, the problem will be addressed differently and we will use a network model we learned on the second part of the class in order to achieve better results."
   ]
  },
  {
   "cell_type": "markdown",
   "metadata": {},
   "source": [
    "### Report Structure\n",
    "\n",
    "- Introduction\n",
    "    - Report Structure\n",
    "    - Goal\n",
    "    - Dataset\n",
    "    - Methodology\n",
    "- Methods\n",
    "    - Dependencies\n",
    "    - Data Preprocessing\n",
    "        - Data Loading\n",
    "        - Data Reshaping and Value Normalization\n",
    "        - Categorical Encoding\n",
    "        - Validation Data\n",
    "    - Model Testing\n",
    "        - Model 1\n",
    "        - Model 2\n",
    "        - Model 3\n",
    "        - Model 4\n",
    "        - Model 5\n",
    "        - Model 6\n",
    "        - Model 7\n",
    "        - Model 8\n",
    "        - Model 9\n",
    "        - Model 10\n",
    "        - Model 11\n",
    "        - Model 12\n",
    "- Results        \n",
    "- Evaluation"
   ]
  },
  {
   "cell_type": "markdown",
   "metadata": {},
   "source": [
    "### Goal\n",
    "\n",
    "Our goal for this coursework will be to create a model that achieves a higher test accuracy than the model from the previous coursework, and therefore prove that convolutional networks are better suited for visual tasks than densely-connected networks."
   ]
  },
  {
   "cell_type": "markdown",
   "metadata": {},
   "source": [
    "### Dataset\n",
    "\n",
    "For this coursework, we will use the same database as in the previous one, the Keras Fashion-MNIST database. This is a dataset that includes a total of 70,000 28x28 grayscale images classified within 10 fashion categories. Once again, we will use 60,000 of these images for training our network, and 10,000 for testing the already trained model. Each of these images has a label (0-9) that indicates what fashion category it has been classified within. The labels correspond to the following:\n",
    "\n",
    "    Label   Description    \n",
    "\n",
    "       0    T-shirt/top\n",
    "       1    Trouser\n",
    "       2    Pullover  \n",
    "       3    Dress\n",
    "       4    Coat  \n",
    "       5    Sandal \n",
    "       6    Shirt\n",
    "       7    Sneaker\n",
    "       8    Bag\n",
    "       9    Ankle boot"
   ]
  },
  {
   "cell_type": "markdown",
   "metadata": {},
   "source": [
    "### Methodology\n",
    "\n",
    "In order to achieve a higher test accuracy than the previous model did, we need to build an Artificial Neural Network using a model that is better suited to tackle this kind of problem. For this reason, we will build a convolutional network, using the TensorFlow and Keras Python libraries. Convolutional networks are efficient at visual tasks, so our new model should easily surpass the accuracy of our previous model. In addition to changing our network model, we will also change certain aspects of our Deep Learning workflow that weren't correctly implemented previously, as it was pointed out on the feedback received.\n",
    "\n",
    "In this coursework, our workflow will be the following. We will first import all the necessary dependencies and preprocess the data. Then we will build a simple convolutional network. We will compile and train this network, and then test its accuracy. We'll treat this first model as our baseline, and from here, we will try to achieve higher accuracy by changing the hyper-parameter values. Differently to the previous coursework, in this one, we will estimate the optimal epoch number for each parameter setting, as overfitting can depend on model parameters."
   ]
  },
  {
   "cell_type": "markdown",
   "metadata": {},
   "source": [
    "# Methods"
   ]
  },
  {
   "cell_type": "markdown",
   "metadata": {},
   "source": [
    "### Dependencies\n",
    "\n",
    "First, we need to import all the necessary dependencies in order to create and train our network. These include several Python libraries and the image database."
   ]
  },
  {
   "cell_type": "code",
   "execution_count": 1,
   "metadata": {},
   "outputs": [],
   "source": [
    "from tensorflow.keras import layers\n",
    "from tensorflow.keras import models\n",
    "from tensorflow.keras.datasets import fashion_mnist\n",
    "from tensorflow.keras.utils import to_categorical\n",
    "import matplotlib.pyplot as plt"
   ]
  },
  {
   "cell_type": "markdown",
   "metadata": {},
   "source": [
    "### Data Preprocessing\n",
    "\n",
    "Previous to training, the dataset must to be loaded onto our machine and prepared for our network. The exact same process was completed and carefully explained in Coursework 1, therefore we won't go into it in depth here. "
   ]
  },
  {
   "cell_type": "markdown",
   "metadata": {},
   "source": [
    "#### Data Loading\n",
    "\n",
    "After importing the fashion_mnist dataset to our sketch, along with other dependencies, we can load the dataset onto our machine."
   ]
  },
  {
   "cell_type": "code",
   "execution_count": 2,
   "metadata": {},
   "outputs": [],
   "source": [
    "(train_images, train_labels), (test_images, test_labels) = fashion_mnist.load_data()"
   ]
  },
  {
   "cell_type": "markdown",
   "metadata": {},
   "source": [
    "#### Data Reshaping and Value Normalization\n",
    "\n",
    "Before using the dataset to train and then test out network, we must first reshape it and normalize the values from 0 to 1."
   ]
  },
  {
   "cell_type": "code",
   "execution_count": 3,
   "metadata": {},
   "outputs": [],
   "source": [
    "train_images = train_images.reshape((60000, 28, 28, 1))\n",
    "train_images = train_images.astype('float32') / 255\n",
    "\n",
    "test_images = test_images.reshape((10000, 28, 28, 1))\n",
    "test_images = test_images.astype('float32') / 255"
   ]
  },
  {
   "cell_type": "markdown",
   "metadata": {},
   "source": [
    "#### Categorical Encoding\n",
    "\n",
    "Next, we categorically encode the labels."
   ]
  },
  {
   "cell_type": "code",
   "execution_count": 4,
   "metadata": {},
   "outputs": [],
   "source": [
    "train_labels = to_categorical(train_labels)\n",
    "test_labels = to_categorical(test_labels)"
   ]
  },
  {
   "cell_type": "markdown",
   "metadata": {},
   "source": [
    "#### Validation Data\n",
    "\n",
    "We separate one third of the training images from the original training set to create a validation set. This set will help us monitor the accuracy of the model during training, and also figure out when overfitting happens."
   ]
  },
  {
   "cell_type": "code",
   "execution_count": 5,
   "metadata": {},
   "outputs": [],
   "source": [
    "val_images = train_images[:20000]\n",
    "partial_images = train_images[20000:]\n",
    "\n",
    "val_labels = train_labels[:20000]\n",
    "partial_labels = train_labels[20000:]"
   ]
  },
  {
   "cell_type": "markdown",
   "metadata": {},
   "source": [
    "### Model Testing\n",
    "\n",
    "Now that our dependencies are loaded and our data is preprocessed, we can start building our models. Most of the code used in this section has been taken and modified from our lecture notes."
   ]
  },
  {
   "cell_type": "markdown",
   "metadata": {},
   "source": [
    "#### Model 1\n",
    "\n",
    "We will start with a simple convnet model."
   ]
  },
  {
   "cell_type": "markdown",
   "metadata": {},
   "source": [
    "##### Build"
   ]
  },
  {
   "cell_type": "code",
   "execution_count": 6,
   "metadata": {},
   "outputs": [],
   "source": [
    "model1 = models.Sequential()\n",
    "model1.add(layers.Conv2D(32, (3, 3), activation='relu', input_shape=(28, 28, 1)))\n",
    "model1.add(layers.MaxPooling2D((2, 2)))\n",
    "model1.add(layers.Conv2D(64, (3, 3), activation='relu'))\n",
    "model1.add(layers.MaxPooling2D((2, 2)))\n",
    "model1.add(layers.Conv2D(64, (3, 3), activation='relu'))"
   ]
  },
  {
   "cell_type": "code",
   "execution_count": 7,
   "metadata": {},
   "outputs": [],
   "source": [
    "model1.add(layers.Flatten())\n",
    "model1.add(layers.Dense(64, activation='relu'))\n",
    "model1.add(layers.Dense(10, activation='softmax'))"
   ]
  },
  {
   "cell_type": "code",
   "execution_count": 8,
   "metadata": {},
   "outputs": [
    {
     "name": "stdout",
     "output_type": "stream",
     "text": [
      "Model: \"sequential\"\n",
      "_________________________________________________________________\n",
      "Layer (type)                 Output Shape              Param #   \n",
      "=================================================================\n",
      "conv2d (Conv2D)              (None, 26, 26, 32)        320       \n",
      "_________________________________________________________________\n",
      "max_pooling2d (MaxPooling2D) (None, 13, 13, 32)        0         \n",
      "_________________________________________________________________\n",
      "conv2d_1 (Conv2D)            (None, 11, 11, 64)        18496     \n",
      "_________________________________________________________________\n",
      "max_pooling2d_1 (MaxPooling2 (None, 5, 5, 64)          0         \n",
      "_________________________________________________________________\n",
      "conv2d_2 (Conv2D)            (None, 3, 3, 64)          36928     \n",
      "_________________________________________________________________\n",
      "flatten (Flatten)            (None, 576)               0         \n",
      "_________________________________________________________________\n",
      "dense (Dense)                (None, 64)                36928     \n",
      "_________________________________________________________________\n",
      "dense_1 (Dense)              (None, 10)                650       \n",
      "=================================================================\n",
      "Total params: 93,322\n",
      "Trainable params: 93,322\n",
      "Non-trainable params: 0\n",
      "_________________________________________________________________\n"
     ]
    }
   ],
   "source": [
    "model1.summary()"
   ]
  },
  {
   "cell_type": "markdown",
   "metadata": {},
   "source": [
    "##### Compilation"
   ]
  },
  {
   "cell_type": "code",
   "execution_count": 9,
   "metadata": {},
   "outputs": [],
   "source": [
    "model1.compile(optimizer='rmsprop',\n",
    "              loss='categorical_crossentropy',\n",
    "              metrics=['accuracy'])"
   ]
  },
  {
   "cell_type": "markdown",
   "metadata": {},
   "source": [
    "##### Training"
   ]
  },
  {
   "cell_type": "code",
   "execution_count": 10,
   "metadata": {},
   "outputs": [
    {
     "name": "stdout",
     "output_type": "stream",
     "text": [
      "Train on 40000 samples, validate on 20000 samples\n",
      "Epoch 1/20\n",
      "WARNING:tensorflow:Entity <function Function._initialize_uninitialized_variables.<locals>.initialize_variables at 0x000000E6A15FACA8> could not be transformed and will be executed as-is. Please report this to the AutoGraph team. When filing the bug, set the verbosity to 10 (on Linux, `export AUTOGRAPH_VERBOSITY=10`) and attach the full output. Cause: module 'gast' has no attribute 'Num'\n",
      "WARNING: Entity <function Function._initialize_uninitialized_variables.<locals>.initialize_variables at 0x000000E6A15FACA8> could not be transformed and will be executed as-is. Please report this to the AutoGraph team. When filing the bug, set the verbosity to 10 (on Linux, `export AUTOGRAPH_VERBOSITY=10`) and attach the full output. Cause: module 'gast' has no attribute 'Num'\n",
      "40000/40000 [==============================] - 36s 909us/sample - loss: 0.5994 - accuracy: 0.7796 - val_loss: 0.4038 - val_accuracy: 0.8497\n",
      "Epoch 2/20\n",
      "40000/40000 [==============================] - 37s 937us/sample - loss: 0.3662 - accuracy: 0.8664 - val_loss: 0.3354 - val_accuracy: 0.8766\n",
      "Epoch 3/20\n",
      "40000/40000 [==============================] - 40s 994us/sample - loss: 0.3093 - accuracy: 0.8864 - val_loss: 0.3196 - val_accuracy: 0.8841\n",
      "Epoch 4/20\n",
      "40000/40000 [==============================] - 39s 974us/sample - loss: 0.2768 - accuracy: 0.8985 - val_loss: 0.3037 - val_accuracy: 0.8879\n",
      "Epoch 5/20\n",
      "40000/40000 [==============================] - 36s 912us/sample - loss: 0.2500 - accuracy: 0.9073 - val_loss: 0.2899 - val_accuracy: 0.8933\n",
      "Epoch 6/20\n",
      "40000/40000 [==============================] - 38s 944us/sample - loss: 0.2279 - accuracy: 0.9166 - val_loss: 0.2663 - val_accuracy: 0.9044\n",
      "Epoch 7/20\n",
      "40000/40000 [==============================] - 36s 906us/sample - loss: 0.2093 - accuracy: 0.9226 - val_loss: 0.2869 - val_accuracy: 0.8964\n",
      "Epoch 8/20\n",
      "40000/40000 [==============================] - 36s 895us/sample - loss: 0.1925 - accuracy: 0.9294 - val_loss: 0.2528 - val_accuracy: 0.9085\n",
      "Epoch 9/20\n",
      "40000/40000 [==============================] - 36s 906us/sample - loss: 0.1763 - accuracy: 0.9353 - val_loss: 0.2543 - val_accuracy: 0.9119\n",
      "Epoch 10/20\n",
      "40000/40000 [==============================] - 39s 963us/sample - loss: 0.1624 - accuracy: 0.9402 - val_loss: 0.2835 - val_accuracy: 0.9065\n",
      "Epoch 11/20\n",
      "40000/40000 [==============================] - 37s 919us/sample - loss: 0.1498 - accuracy: 0.9437 - val_loss: 0.2889 - val_accuracy: 0.9017\n",
      "Epoch 12/20\n",
      "40000/40000 [==============================] - 35s 887us/sample - loss: 0.1389 - accuracy: 0.9486 - val_loss: 0.3037 - val_accuracy: 0.9075\n",
      "Epoch 13/20\n",
      "40000/40000 [==============================] - 36s 912us/sample - loss: 0.1264 - accuracy: 0.9535 - val_loss: 0.3248 - val_accuracy: 0.9063\n",
      "Epoch 14/20\n",
      "40000/40000 [==============================] - 38s 944us/sample - loss: 0.1158 - accuracy: 0.9578 - val_loss: 0.3239 - val_accuracy: 0.9038\n",
      "Epoch 15/20\n",
      "40000/40000 [==============================] - 36s 903us/sample - loss: 0.1059 - accuracy: 0.9609 - val_loss: 0.3329 - val_accuracy: 0.9036\n",
      "Epoch 16/20\n",
      "40000/40000 [==============================] - 37s 935us/sample - loss: 0.0981 - accuracy: 0.9634 - val_loss: 0.3491 - val_accuracy: 0.8984\n",
      "Epoch 17/20\n",
      "40000/40000 [==============================] - 38s 946us/sample - loss: 0.0910 - accuracy: 0.9658 - val_loss: 0.3786 - val_accuracy: 0.9046\n",
      "Epoch 18/20\n",
      "40000/40000 [==============================] - 38s 957us/sample - loss: 0.0850 - accuracy: 0.9687 - val_loss: 0.4140 - val_accuracy: 0.9057\n",
      "Epoch 19/20\n",
      "40000/40000 [==============================] - 36s 902us/sample - loss: 0.0776 - accuracy: 0.9714 - val_loss: 0.4073 - val_accuracy: 0.9051\n",
      "Epoch 20/20\n",
      "40000/40000 [==============================] - 36s 900us/sample - loss: 0.0724 - accuracy: 0.9739 - val_loss: 0.4691 - val_accuracy: 0.8953\n"
     ]
    }
   ],
   "source": [
    "history1 = model1.fit(partial_images, \n",
    "          partial_labels, \n",
    "          epochs=20, \n",
    "          batch_size=64,\n",
    "          validation_data=(val_images, val_labels))"
   ]
  },
  {
   "cell_type": "code",
   "execution_count": 11,
   "metadata": {},
   "outputs": [
    {
     "data": {
      "image/png": "[encoded data removed]",
      "text/plain": [
       "<Figure size 432x288 with 1 Axes>"
      ]
     },
     "metadata": {
      "needs_background": "light"
     },
     "output_type": "display_data"
    },
    {
     "data": {
      "image/png": "[encoded data removed]",
      "text/plain": [
       "<Figure size 432x288 with 1 Axes>"
      ]
     },
     "metadata": {
      "needs_background": "light"
     },
     "output_type": "display_data"
    }
   ],
   "source": [
    "acc = history1.history['accuracy']\n",
    "val_acc = history1.history['val_accuracy']\n",
    "loss = history1.history['loss']\n",
    "val_loss = history1.history['val_loss']\n",
    "\n",
    "epochs = range(1, len(loss) + 1)\n",
    "\n",
    "plt.plot(epochs, acc, 'bo', label='Training acc')\n",
    "plt.plot(epochs, val_acc, 'b', label='Validation acc')\n",
    "plt.title('Training and validation accuracy')\n",
    "plt.legend()\n",
    "\n",
    "plt.figure()\n",
    "\n",
    "plt.plot(epochs, loss, 'bo', label='Training loss')\n",
    "plt.plot(epochs, val_loss, 'b', label='Validation loss')\n",
    "plt.title('Training and validation loss')\n",
    "plt.legend()\n",
    "\n",
    "plt.show()"
   ]
  },
  {
   "cell_type": "markdown",
   "metadata": {},
   "source": [
    "##### Testing"
   ]
  },
  {
   "cell_type": "code",
   "execution_count": 13,
   "metadata": {},
   "outputs": [
    {
     "name": "stdout",
     "output_type": "stream",
     "text": [
      "test_acc: 0.8947\n"
     ]
    }
   ],
   "source": [
    "test_loss, test_acc = model1.evaluate(test_images, test_labels, verbose=0)\n",
    "print('test_acc:', test_acc)"
   ]
  },
  {
   "cell_type": "markdown",
   "metadata": {},
   "source": [
    "##### Results\n",
    "\n",
    "With this first convolutional network model, we already have achieved a slightly higher accuracy than we did in the previous coursework after a lot of hyper-parameter tuning. This accuracy is still not very high, but it is a good starting point.\n",
    "\n",
    "We can see in the graphs that the model overfits somewhere around 8 epochs. If we were to train this network again, 10 epochs would be more than enough, saving us lot of time. "
   ]
  },
  {
   "cell_type": "markdown",
   "metadata": {},
   "source": [
    "#### Model 2"
   ]
  },
  {
   "cell_type": "markdown",
   "metadata": {},
   "source": [
    "In this second model, we are going to try with a slightly different network architecture, changing the number of nodes in the last Conv2D layer.\n"
   ]
  },
  {
   "cell_type": "markdown",
   "metadata": {},
   "source": [
    "##### Build"
   ]
  },
  {
   "cell_type": "code",
   "execution_count": 7,
   "metadata": {},
   "outputs": [],
   "source": [
    "model2 = models.Sequential()\n",
    "model2.add(layers.Conv2D(32, (3, 3), activation='relu', input_shape=(28, 28, 1)))\n",
    "model2.add(layers.MaxPooling2D((2, 2)))\n",
    "model2.add(layers.Conv2D(64, (3, 3), activation='relu'))\n",
    "model2.add(layers.MaxPooling2D((2, 2)))\n",
    "model2.add(layers.Conv2D(128, (3, 3), activation='relu'))"
   ]
  },
  {
   "cell_type": "code",
   "execution_count": 8,
   "metadata": {},
   "outputs": [],
   "source": [
    "model2.add(layers.Flatten())\n",
    "model2.add(layers.Dense(64, activation='relu'))\n",
    "model2.add(layers.Dense(10, activation='softmax'))"
   ]
  },
  {
   "cell_type": "code",
   "execution_count": 9,
   "metadata": {},
   "outputs": [
    {
     "name": "stdout",
     "output_type": "stream",
     "text": [
      "Model: \"sequential_2\"\n",
      "_________________________________________________________________\n",
      "Layer (type)                 Output Shape              Param #   \n",
      "=================================================================\n",
      "conv2d_6 (Conv2D)            (None, 26, 26, 32)        320       \n",
      "_________________________________________________________________\n",
      "max_pooling2d_6 (MaxPooling2 (None, 13, 13, 32)        0         \n",
      "_________________________________________________________________\n",
      "conv2d_7 (Conv2D)            (None, 11, 11, 64)        18496     \n",
      "_________________________________________________________________\n",
      "max_pooling2d_7 (MaxPooling2 (None, 5, 5, 64)          0         \n",
      "_________________________________________________________________\n",
      "conv2d_8 (Conv2D)            (None, 3, 3, 128)         73856     \n",
      "_________________________________________________________________\n",
      "flatten_1 (Flatten)          (None, 1152)              0         \n",
      "_________________________________________________________________\n",
      "dense_2 (Dense)              (None, 64)                73792     \n",
      "_________________________________________________________________\n",
      "dense_3 (Dense)              (None, 10)                650       \n",
      "=================================================================\n",
      "Total params: 167,114\n",
      "Trainable params: 167,114\n",
      "Non-trainable params: 0\n",
      "_________________________________________________________________\n"
     ]
    }
   ],
   "source": [
    "model2.summary()"
   ]
  },
  {
   "cell_type": "markdown",
   "metadata": {},
   "source": [
    "##### Compilation"
   ]
  },
  {
   "cell_type": "code",
   "execution_count": 10,
   "metadata": {},
   "outputs": [],
   "source": [
    "model2.compile(optimizer='rmsprop',\n",
    "              loss='categorical_crossentropy',\n",
    "              metrics=['accuracy'])"
   ]
  },
  {
   "cell_type": "markdown",
   "metadata": {},
   "source": [
    "##### Training\n",
    "\n",
    "Even though overfitting can depend on model parameters, I've reduced the epochs in the training of this second model to 15 because overfitting will most likely happen before this number is reached, and this will save us some valuable time. If this is not the case, I will retrain the model with a higher number of epochs."
   ]
  },
  {
   "cell_type": "code",
   "execution_count": 17,
   "metadata": {},
   "outputs": [
    {
     "name": "stdout",
     "output_type": "stream",
     "text": [
      "Train on 40000 samples, validate on 20000 samples\n",
      "Epoch 1/15\n",
      "WARNING:tensorflow:Entity <function Function._initialize_uninitialized_variables.<locals>.initialize_variables at 0x0000000F7AF5F708> could not be transformed and will be executed as-is. Please report this to the AutoGraph team. When filing the bug, set the verbosity to 10 (on Linux, `export AUTOGRAPH_VERBOSITY=10`) and attach the full output. Cause: module 'gast' has no attribute 'Num'\n",
      "WARNING: Entity <function Function._initialize_uninitialized_variables.<locals>.initialize_variables at 0x0000000F7AF5F708> could not be transformed and will be executed as-is. Please report this to the AutoGraph team. When filing the bug, set the verbosity to 10 (on Linux, `export AUTOGRAPH_VERBOSITY=10`) and attach the full output. Cause: module 'gast' has no attribute 'Num'\n",
      "40000/40000 [==============================] - 44s 1ms/sample - loss: 0.5889 - accuracy: 0.7815 - val_loss: 0.3867 - val_accuracy: 0.8582\n",
      "Epoch 2/15\n",
      "40000/40000 [==============================] - 39s 972us/sample - loss: 0.3560 - accuracy: 0.8702 - val_loss: 0.3401 - val_accuracy: 0.8790\n",
      "Epoch 3/15\n",
      "40000/40000 [==============================] - 39s 968us/sample - loss: 0.2966 - accuracy: 0.8914 - val_loss: 0.3099 - val_accuracy: 0.8866\n",
      "Epoch 4/15\n",
      "40000/40000 [==============================] - 39s 969us/sample - loss: 0.2608 - accuracy: 0.9044 - val_loss: 0.2708 - val_accuracy: 0.9029\n",
      "Epoch 5/15\n",
      "40000/40000 [==============================] - 40s 1ms/sample - loss: 0.2338 - accuracy: 0.9137 - val_loss: 0.2590 - val_accuracy: 0.9038\n",
      "Epoch 6/15\n",
      "40000/40000 [==============================] - 40s 1ms/sample - loss: 0.2112 - accuracy: 0.9240 - val_loss: 0.2693 - val_accuracy: 0.9054\n",
      "Epoch 7/15\n",
      "40000/40000 [==============================] - 39s 976us/sample - loss: 0.1907 - accuracy: 0.9292 - val_loss: 0.2617 - val_accuracy: 0.9062\n",
      "Epoch 8/15\n",
      "40000/40000 [==============================] - 42s 1ms/sample - loss: 0.1732 - accuracy: 0.9362 - val_loss: 0.2612 - val_accuracy: 0.9110\n",
      "Epoch 9/15\n",
      "40000/40000 [==============================] - 42s 1ms/sample - loss: 0.1573 - accuracy: 0.9412 - val_loss: 0.2784 - val_accuracy: 0.9045\n",
      "Epoch 10/15\n",
      "40000/40000 [==============================] - 40s 1ms/sample - loss: 0.1396 - accuracy: 0.9490 - val_loss: 0.2902 - val_accuracy: 0.9034\n",
      "Epoch 11/15\n",
      "40000/40000 [==============================] - 40s 992us/sample - loss: 0.1271 - accuracy: 0.9536 - val_loss: 0.3079 - val_accuracy: 0.9068\n",
      "Epoch 12/15\n",
      "40000/40000 [==============================] - 44s 1ms/sample - loss: 0.1156 - accuracy: 0.9575 - val_loss: 0.3232 - val_accuracy: 0.9111\n",
      "Epoch 13/15\n",
      "40000/40000 [==============================] - 45s 1ms/sample - loss: 0.1039 - accuracy: 0.9614 - val_loss: 0.3727 - val_accuracy: 0.9024\n",
      "Epoch 14/15\n",
      "40000/40000 [==============================] - 42s 1ms/sample - loss: 0.0953 - accuracy: 0.9651 - val_loss: 0.3918 - val_accuracy: 0.8956\n",
      "Epoch 15/15\n",
      "40000/40000 [==============================] - 43s 1ms/sample - loss: 0.0882 - accuracy: 0.9676 - val_loss: 0.3448 - val_accuracy: 0.9082\n"
     ]
    }
   ],
   "source": [
    "history2 = model2.fit(partial_images, \n",
    "          partial_labels, \n",
    "          epochs=15, \n",
    "          batch_size=64,\n",
    "          validation_data=(val_images, val_labels))"
   ]
  },
  {
   "cell_type": "code",
   "execution_count": 18,
   "metadata": {},
   "outputs": [
    {
     "data": {
      "image/png": "[encoded data removed]",
      "text/plain": [
       "<Figure size 432x288 with 1 Axes>"
      ]
     },
     "metadata": {
      "needs_background": "light"
     },
     "output_type": "display_data"
    },
    {
     "data": {
      "image/png": "[encoded data removed]",
      "text/plain": [
       "<Figure size 432x288 with 1 Axes>"
      ]
     },
     "metadata": {
      "needs_background": "light"
     },
     "output_type": "display_data"
    }
   ],
   "source": [
    "acc = history2.history['accuracy']\n",
    "val_acc = history2.history['val_accuracy']\n",
    "loss = history2.history['loss']\n",
    "val_loss = history2.history['val_loss']\n",
    "\n",
    "epochs = range(1, len(loss) + 1)\n",
    "\n",
    "plt.plot(epochs, acc, 'bo', label='Training acc')\n",
    "plt.plot(epochs, val_acc, 'b', label='Validation acc')\n",
    "plt.title('Training and validation accuracy')\n",
    "plt.legend()\n",
    "\n",
    "plt.figure()\n",
    "\n",
    "plt.plot(epochs, loss, 'bo', label='Training loss')\n",
    "plt.plot(epochs, val_loss, 'b', label='Validation loss')\n",
    "plt.title('Training and validation loss')\n",
    "plt.legend()\n",
    "\n",
    "plt.show()"
   ]
  },
  {
   "cell_type": "markdown",
   "metadata": {},
   "source": [
    "##### Testing"
   ]
  },
  {
   "cell_type": "code",
   "execution_count": 20,
   "metadata": {},
   "outputs": [
    {
     "name": "stdout",
     "output_type": "stream",
     "text": [
      "test_acc: 0.9105\n"
     ]
    }
   ],
   "source": [
    "test_loss, test_acc = model2.evaluate(test_images, test_labels, verbose=0)\n",
    "print('test_acc:', test_acc)"
   ]
  },
  {
   "cell_type": "markdown",
   "metadata": {},
   "source": [
    "##### Results"
   ]
  },
  {
   "cell_type": "markdown",
   "metadata": {},
   "source": [
    "This second network obtained an approximate 1.5% accuracy increase from the previous one. As expected, it also overfitted around 8 epochs."
   ]
  },
  {
   "cell_type": "markdown",
   "metadata": {},
   "source": [
    "#### Model 3\n",
    "\n",
    "In this third model, we will continue experimenting with the network's architecture, as we obtained positive results in the second model. We will increase the number of nodes in all three layers."
   ]
  },
  {
   "cell_type": "markdown",
   "metadata": {},
   "source": [
    "##### Build"
   ]
  },
  {
   "cell_type": "code",
   "execution_count": 7,
   "metadata": {},
   "outputs": [],
   "source": [
    "model3 = models.Sequential()\n",
    "model3.add(layers.Conv2D(64, (3, 3), activation='relu', input_shape=(28, 28, 1)))\n",
    "model3.add(layers.MaxPooling2D((2, 2)))\n",
    "model3.add(layers.Conv2D(128, (3, 3), activation='relu'))\n",
    "model3.add(layers.MaxPooling2D((2, 2)))\n",
    "model3.add(layers.Conv2D(128, (3, 3), activation='relu'))"
   ]
  },
  {
   "cell_type": "code",
   "execution_count": 8,
   "metadata": {},
   "outputs": [],
   "source": [
    "model3.add(layers.Flatten())\n",
    "model3.add(layers.Dense(64, activation='relu'))\n",
    "model3.add(layers.Dense(10, activation='softmax'))"
   ]
  },
  {
   "cell_type": "code",
   "execution_count": 9,
   "metadata": {},
   "outputs": [
    {
     "name": "stdout",
     "output_type": "stream",
     "text": [
      "Model: \"sequential\"\n",
      "_________________________________________________________________\n",
      "Layer (type)                 Output Shape              Param #   \n",
      "=================================================================\n",
      "conv2d (Conv2D)              (None, 26, 26, 64)        640       \n",
      "_________________________________________________________________\n",
      "max_pooling2d (MaxPooling2D) (None, 13, 13, 64)        0         \n",
      "_________________________________________________________________\n",
      "conv2d_1 (Conv2D)            (None, 11, 11, 128)       73856     \n",
      "_________________________________________________________________\n",
      "max_pooling2d_1 (MaxPooling2 (None, 5, 5, 128)         0         \n",
      "_________________________________________________________________\n",
      "conv2d_2 (Conv2D)            (None, 3, 3, 128)         147584    \n",
      "_________________________________________________________________\n",
      "flatten (Flatten)            (None, 1152)              0         \n",
      "_________________________________________________________________\n",
      "dense (Dense)                (None, 64)                73792     \n",
      "_________________________________________________________________\n",
      "dense_1 (Dense)              (None, 10)                650       \n",
      "=================================================================\n",
      "Total params: 296,522\n",
      "Trainable params: 296,522\n",
      "Non-trainable params: 0\n",
      "_________________________________________________________________\n"
     ]
    }
   ],
   "source": [
    "model3.summary()"
   ]
  },
  {
   "cell_type": "markdown",
   "metadata": {},
   "source": [
    "##### Compilation"
   ]
  },
  {
   "cell_type": "code",
   "execution_count": 10,
   "metadata": {},
   "outputs": [],
   "source": [
    "model3.compile(optimizer='rmsprop',\n",
    "              loss='categorical_crossentropy',\n",
    "              metrics=['accuracy'])"
   ]
  },
  {
   "cell_type": "markdown",
   "metadata": {},
   "source": [
    "##### Training\n",
    "\n",
    "Once again, I've decreased the number of epochs, this time to 10, because the size of this network will significantly slow down its training and the model will most likely overfit before reaching 10 epochs."
   ]
  },
  {
   "cell_type": "code",
   "execution_count": 11,
   "metadata": {},
   "outputs": [
    {
     "name": "stdout",
     "output_type": "stream",
     "text": [
      "Train on 40000 samples, validate on 20000 samples\n",
      "Epoch 1/10\n",
      "WARNING:tensorflow:Entity <function Function._initialize_uninitialized_variables.<locals>.initialize_variables at 0x000000F881BAEF78> could not be transformed and will be executed as-is. Please report this to the AutoGraph team. When filing the bug, set the verbosity to 10 (on Linux, `export AUTOGRAPH_VERBOSITY=10`) and attach the full output. Cause: module 'gast' has no attribute 'Num'\n",
      "WARNING: Entity <function Function._initialize_uninitialized_variables.<locals>.initialize_variables at 0x000000F881BAEF78> could not be transformed and will be executed as-is. Please report this to the AutoGraph team. When filing the bug, set the verbosity to 10 (on Linux, `export AUTOGRAPH_VERBOSITY=10`) and attach the full output. Cause: module 'gast' has no attribute 'Num'\n",
      "40000/40000 [==============================] - 94s 2ms/sample - loss: 0.5537 - accuracy: 0.7970 - val_loss: 0.3883 - val_accuracy: 0.8594\n",
      "Epoch 2/10\n",
      "40000/40000 [==============================] - 93s 2ms/sample - loss: 0.3289 - accuracy: 0.8795 - val_loss: 0.3020 - val_accuracy: 0.8905\n",
      "Epoch 3/10\n",
      "40000/40000 [==============================] - 101s 3ms/sample - loss: 0.2742 - accuracy: 0.9005 - val_loss: 0.2794 - val_accuracy: 0.8985\n",
      "Epoch 4/10\n",
      "40000/40000 [==============================] - 95s 2ms/sample - loss: 0.2399 - accuracy: 0.9114 - val_loss: 0.2587 - val_accuracy: 0.9068\n",
      "Epoch 5/10\n",
      "40000/40000 [==============================] - 94s 2ms/sample - loss: 0.2093 - accuracy: 0.9236 - val_loss: 0.2761 - val_accuracy: 0.8993\n",
      "Epoch 6/10\n",
      "40000/40000 [==============================] - 96s 2ms/sample - loss: 0.1828 - accuracy: 0.9322 - val_loss: 0.2674 - val_accuracy: 0.9046\n",
      "Epoch 7/10\n",
      "40000/40000 [==============================] - 89s 2ms/sample - loss: 0.1648 - accuracy: 0.9382 - val_loss: 0.2932 - val_accuracy: 0.9080\n",
      "Epoch 8/10\n",
      "40000/40000 [==============================] - 86s 2ms/sample - loss: 0.1448 - accuracy: 0.9475 - val_loss: 0.2917 - val_accuracy: 0.9042\n",
      "Epoch 9/10\n",
      "40000/40000 [==============================] - 79s 2ms/sample - loss: 0.1275 - accuracy: 0.9525 - val_loss: 0.2753 - val_accuracy: 0.9112\n",
      "Epoch 10/10\n",
      "40000/40000 [==============================] - 76s 2ms/sample - loss: 0.1128 - accuracy: 0.9592 - val_loss: 0.3052 - val_accuracy: 0.9127\n"
     ]
    }
   ],
   "source": [
    "history3 = model3.fit(partial_images, \n",
    "          partial_labels, \n",
    "          epochs=10, \n",
    "          batch_size=64,\n",
    "          validation_data=(val_images, val_labels))"
   ]
  },
  {
   "cell_type": "code",
   "execution_count": 13,
   "metadata": {},
   "outputs": [
    {
     "data": {
      "image/png": "[encoded data removed]",
      "text/plain": [
       "<Figure size 432x288 with 1 Axes>"
      ]
     },
     "metadata": {
      "needs_background": "light"
     },
     "output_type": "display_data"
    },
    {
     "data": {
      "image/png": "[encoded data removed]",
      "text/plain": [
       "<Figure size 432x288 with 1 Axes>"
      ]
     },
     "metadata": {
      "needs_background": "light"
     },
     "output_type": "display_data"
    }
   ],
   "source": [
    "acc = history3.history['accuracy']\n",
    "val_acc = history3.history['val_accuracy']\n",
    "loss = history3.history['loss']\n",
    "val_loss = history3.history['val_loss']\n",
    "\n",
    "epochs = range(1, len(loss) + 1)\n",
    "\n",
    "plt.plot(epochs, acc, 'bo', label='Training acc')\n",
    "plt.plot(epochs, val_acc, 'b', label='Validation acc')\n",
    "plt.title('Training and validation accuracy')\n",
    "plt.legend()\n",
    "\n",
    "plt.figure()\n",
    "\n",
    "plt.plot(epochs, loss, 'bo', label='Training loss')\n",
    "plt.plot(epochs, val_loss, 'b', label='Validation loss')\n",
    "plt.title('Training and validation loss')\n",
    "plt.legend()\n",
    "\n",
    "plt.show()"
   ]
  },
  {
   "cell_type": "markdown",
   "metadata": {},
   "source": [
    "##### Testing"
   ]
  },
  {
   "cell_type": "code",
   "execution_count": 12,
   "metadata": {},
   "outputs": [
    {
     "name": "stdout",
     "output_type": "stream",
     "text": [
      "test_acc: 0.9052\n"
     ]
    }
   ],
   "source": [
    "test_loss, test_acc = model3.evaluate(test_images, test_labels, verbose=0)\n",
    "print('test_acc:', test_acc)"
   ]
  },
  {
   "cell_type": "markdown",
   "metadata": {},
   "source": [
    "##### Results"
   ]
  },
  {
   "cell_type": "markdown",
   "metadata": {},
   "source": [
    "This time increasing the number of nodes per layer did not improve the accuracy, and it slowed down the training significantly. Overfitting happened earlier, around the 4th epoch."
   ]
  },
  {
   "cell_type": "markdown",
   "metadata": {},
   "source": [
    "#### Model 4\n",
    "\n",
    "For this model, we will use the same Conv2D and MaxPool layers that we used on model 2, and will increase the number of nodes in the first dense layer."
   ]
  },
  {
   "cell_type": "markdown",
   "metadata": {},
   "source": [
    "##### Build"
   ]
  },
  {
   "cell_type": "code",
   "execution_count": 6,
   "metadata": {},
   "outputs": [],
   "source": [
    "model4 = models.Sequential()\n",
    "model4.add(layers.Conv2D(32, (3, 3), activation='relu', input_shape=(28, 28, 1)))\n",
    "model4.add(layers.MaxPooling2D((2, 2)))\n",
    "model4.add(layers.Conv2D(64, (3, 3), activation='relu'))\n",
    "model4.add(layers.MaxPooling2D((2, 2)))\n",
    "model4.add(layers.Conv2D(128, (3, 3), activation='relu'))"
   ]
  },
  {
   "cell_type": "code",
   "execution_count": 7,
   "metadata": {},
   "outputs": [],
   "source": [
    "model4.add(layers.Flatten())\n",
    "model4.add(layers.Dense(128, activation='relu'))\n",
    "model4.add(layers.Dense(10, activation='softmax'))"
   ]
  },
  {
   "cell_type": "code",
   "execution_count": 8,
   "metadata": {},
   "outputs": [
    {
     "name": "stdout",
     "output_type": "stream",
     "text": [
      "Model: \"sequential\"\n",
      "_________________________________________________________________\n",
      "Layer (type)                 Output Shape              Param #   \n",
      "=================================================================\n",
      "conv2d (Conv2D)              (None, 26, 26, 32)        320       \n",
      "_________________________________________________________________\n",
      "max_pooling2d (MaxPooling2D) (None, 13, 13, 32)        0         \n",
      "_________________________________________________________________\n",
      "conv2d_1 (Conv2D)            (None, 11, 11, 64)        18496     \n",
      "_________________________________________________________________\n",
      "max_pooling2d_1 (MaxPooling2 (None, 5, 5, 64)          0         \n",
      "_________________________________________________________________\n",
      "conv2d_2 (Conv2D)            (None, 3, 3, 128)         73856     \n",
      "_________________________________________________________________\n",
      "flatten (Flatten)            (None, 1152)              0         \n",
      "_________________________________________________________________\n",
      "dense (Dense)                (None, 128)               147584    \n",
      "_________________________________________________________________\n",
      "dense_1 (Dense)              (None, 10)                1290      \n",
      "=================================================================\n",
      "Total params: 241,546\n",
      "Trainable params: 241,546\n",
      "Non-trainable params: 0\n",
      "_________________________________________________________________\n"
     ]
    }
   ],
   "source": [
    "model4.summary()"
   ]
  },
  {
   "cell_type": "markdown",
   "metadata": {},
   "source": [
    "##### Compilation"
   ]
  },
  {
   "cell_type": "code",
   "execution_count": 9,
   "metadata": {},
   "outputs": [],
   "source": [
    "model4.compile(optimizer='rmsprop',\n",
    "              loss='categorical_crossentropy',\n",
    "              metrics=['accuracy'])"
   ]
  },
  {
   "cell_type": "markdown",
   "metadata": {},
   "source": [
    "##### Training"
   ]
  },
  {
   "cell_type": "code",
   "execution_count": 10,
   "metadata": {},
   "outputs": [
    {
     "name": "stdout",
     "output_type": "stream",
     "text": [
      "Train on 40000 samples, validate on 20000 samples\n",
      "Epoch 1/10\n",
      "WARNING:tensorflow:Entity <function Function._initialize_uninitialized_variables.<locals>.initialize_variables at 0x000000603A2CCCA8> could not be transformed and will be executed as-is. Please report this to the AutoGraph team. When filing the bug, set the verbosity to 10 (on Linux, `export AUTOGRAPH_VERBOSITY=10`) and attach the full output. Cause: module 'gast' has no attribute 'Num'\n",
      "WARNING: Entity <function Function._initialize_uninitialized_variables.<locals>.initialize_variables at 0x000000603A2CCCA8> could not be transformed and will be executed as-is. Please report this to the AutoGraph team. When filing the bug, set the verbosity to 10 (on Linux, `export AUTOGRAPH_VERBOSITY=10`) and attach the full output. Cause: module 'gast' has no attribute 'Num'\n",
      "40000/40000 [==============================] - 49s 1ms/sample - loss: 0.5674 - accuracy: 0.7882 - val_loss: 0.3985 - val_accuracy: 0.8497\n",
      "Epoch 2/10\n",
      "40000/40000 [==============================] - 44s 1ms/sample - loss: 0.3453 - accuracy: 0.8734 - val_loss: 0.3260 - val_accuracy: 0.8813\n",
      "Epoch 3/10\n",
      "40000/40000 [==============================] - 43s 1ms/sample - loss: 0.2898 - accuracy: 0.8942 - val_loss: 0.2957 - val_accuracy: 0.8914\n",
      "Epoch 4/10\n",
      "40000/40000 [==============================] - 40s 1ms/sample - loss: 0.2570 - accuracy: 0.9058 - val_loss: 0.2830 - val_accuracy: 0.8978\n",
      "Epoch 5/10\n",
      "40000/40000 [==============================] - 36s 902us/sample - loss: 0.2255 - accuracy: 0.9159 - val_loss: 0.2552 - val_accuracy: 0.9063\n",
      "Epoch 6/10\n",
      "40000/40000 [==============================] - 43s 1ms/sample - loss: 0.2052 - accuracy: 0.9243 - val_loss: 0.2556 - val_accuracy: 0.9057\n",
      "Epoch 7/10\n",
      "40000/40000 [==============================] - 51s 1ms/sample - loss: 0.1827 - accuracy: 0.9325 - val_loss: 0.2725 - val_accuracy: 0.9036\n",
      "Epoch 8/10\n",
      "40000/40000 [==============================] - 45s 1ms/sample - loss: 0.1625 - accuracy: 0.9408 - val_loss: 0.2810 - val_accuracy: 0.9030\n",
      "Epoch 9/10\n",
      "40000/40000 [==============================] - 44s 1ms/sample - loss: 0.1493 - accuracy: 0.9450 - val_loss: 0.2970 - val_accuracy: 0.9052\n",
      "Epoch 10/10\n",
      "40000/40000 [==============================] - 40s 996us/sample - loss: 0.1326 - accuracy: 0.9512 - val_loss: 0.2760 - val_accuracy: 0.9110\n"
     ]
    }
   ],
   "source": [
    "history4 = model4.fit(partial_images, \n",
    "          partial_labels, \n",
    "          epochs=10, \n",
    "          batch_size=64,\n",
    "          validation_data=(val_images, val_labels))"
   ]
  },
  {
   "cell_type": "code",
   "execution_count": 13,
   "metadata": {},
   "outputs": [
    {
     "data": {
      "image/png": "[encoded data removed]",
      "text/plain": [
       "<Figure size 432x288 with 1 Axes>"
      ]
     },
     "metadata": {
      "needs_background": "light"
     },
     "output_type": "display_data"
    },
    {
     "data": {
      "image/png": "[encoded data removed]",
      "text/plain": [
       "<Figure size 432x288 with 1 Axes>"
      ]
     },
     "metadata": {
      "needs_background": "light"
     },
     "output_type": "display_data"
    }
   ],
   "source": [
    "acc = history4.history['accuracy']\n",
    "val_acc = history4.history['val_accuracy']\n",
    "loss = history4.history['loss']\n",
    "val_loss = history4.history['val_loss']\n",
    "\n",
    "epochs = range(1, len(loss) + 1)\n",
    "\n",
    "plt.plot(epochs, acc, 'bo', label='Training acc')\n",
    "plt.plot(epochs, val_acc, 'b', label='Validation acc')\n",
    "plt.title('Training and validation accuracy')\n",
    "plt.legend()\n",
    "\n",
    "plt.figure()\n",
    "\n",
    "plt.plot(epochs, loss, 'bo', label='Training loss')\n",
    "plt.plot(epochs, val_loss, 'b', label='Validation loss')\n",
    "plt.title('Training and validation loss')\n",
    "plt.legend()\n",
    "\n",
    "plt.show()"
   ]
  },
  {
   "cell_type": "markdown",
   "metadata": {},
   "source": [
    "##### Testing"
   ]
  },
  {
   "cell_type": "code",
   "execution_count": 14,
   "metadata": {},
   "outputs": [
    {
     "name": "stdout",
     "output_type": "stream",
     "text": [
      "test_acc: 0.9085\n"
     ]
    }
   ],
   "source": [
    "test_loss, test_acc = model4.evaluate(test_images, test_labels, verbose=0)\n",
    "print('test_acc:', test_acc)"
   ]
  },
  {
   "cell_type": "markdown",
   "metadata": {},
   "source": [
    "##### Results"
   ]
  },
  {
   "cell_type": "markdown",
   "metadata": {},
   "source": [
    "Increasing the number of nodes in the first dense layer of the network doesn't seem to help the accuracy in this case."
   ]
  },
  {
   "cell_type": "markdown",
   "metadata": {},
   "source": [
    "#### Model 5\n",
    "\n",
    "For this model, we will try to increase the number of nodes in the first dense layer again."
   ]
  },
  {
   "cell_type": "markdown",
   "metadata": {},
   "source": [
    "##### Build"
   ]
  },
  {
   "cell_type": "code",
   "execution_count": 14,
   "metadata": {},
   "outputs": [],
   "source": [
    "model5 = models.Sequential()\n",
    "model5.add(layers.Conv2D(32, (3, 3), activation='relu', input_shape=(28, 28, 1)))\n",
    "model5.add(layers.MaxPooling2D((2, 2)))\n",
    "model5.add(layers.Conv2D(64, (3, 3), activation='relu'))\n",
    "model5.add(layers.MaxPooling2D((2, 2)))\n",
    "model5.add(layers.Conv2D(128, (3, 3), activation='relu'))"
   ]
  },
  {
   "cell_type": "code",
   "execution_count": 15,
   "metadata": {},
   "outputs": [],
   "source": [
    "model5.add(layers.Flatten())\n",
    "model5.add(layers.Dense(256, activation='relu'))\n",
    "model5.add(layers.Dense(10, activation='softmax'))"
   ]
  },
  {
   "cell_type": "code",
   "execution_count": 16,
   "metadata": {},
   "outputs": [
    {
     "name": "stdout",
     "output_type": "stream",
     "text": [
      "Model: \"sequential_1\"\n",
      "_________________________________________________________________\n",
      "Layer (type)                 Output Shape              Param #   \n",
      "=================================================================\n",
      "conv2d_3 (Conv2D)            (None, 26, 26, 32)        320       \n",
      "_________________________________________________________________\n",
      "max_pooling2d_2 (MaxPooling2 (None, 13, 13, 32)        0         \n",
      "_________________________________________________________________\n",
      "conv2d_4 (Conv2D)            (None, 11, 11, 64)        18496     \n",
      "_________________________________________________________________\n",
      "max_pooling2d_3 (MaxPooling2 (None, 5, 5, 64)          0         \n",
      "_________________________________________________________________\n",
      "conv2d_5 (Conv2D)            (None, 3, 3, 128)         73856     \n",
      "_________________________________________________________________\n",
      "flatten_1 (Flatten)          (None, 1152)              0         \n",
      "_________________________________________________________________\n",
      "dense_2 (Dense)              (None, 256)               295168    \n",
      "_________________________________________________________________\n",
      "dense_3 (Dense)              (None, 10)                2570      \n",
      "=================================================================\n",
      "Total params: 390,410\n",
      "Trainable params: 390,410\n",
      "Non-trainable params: 0\n",
      "_________________________________________________________________\n"
     ]
    }
   ],
   "source": [
    "model5.summary()"
   ]
  },
  {
   "cell_type": "markdown",
   "metadata": {},
   "source": [
    "##### Compilation"
   ]
  },
  {
   "cell_type": "code",
   "execution_count": 17,
   "metadata": {},
   "outputs": [],
   "source": [
    "model5.compile(optimizer='rmsprop',\n",
    "              loss='categorical_crossentropy',\n",
    "              metrics=['accuracy'])"
   ]
  },
  {
   "cell_type": "markdown",
   "metadata": {},
   "source": [
    "##### Training\n",
    "\n",
    "After training the model for 10 epochs and inspecting the graphs produced, it was doubtful that the model had overfitted, so we trained it again, this time for 15 epochs."
   ]
  },
  {
   "cell_type": "code",
   "execution_count": 18,
   "metadata": {},
   "outputs": [
    {
     "name": "stdout",
     "output_type": "stream",
     "text": [
      "Train on 40000 samples, validate on 20000 samples\n",
      "Epoch 1/15\n",
      "WARNING:tensorflow:Entity <function Function._initialize_uninitialized_variables.<locals>.initialize_variables at 0x000000B40D504558> could not be transformed and will be executed as-is. Please report this to the AutoGraph team. When filing the bug, set the verbosity to 10 (on Linux, `export AUTOGRAPH_VERBOSITY=10`) and attach the full output. Cause: module 'gast' has no attribute 'Num'\n",
      "WARNING: Entity <function Function._initialize_uninitialized_variables.<locals>.initialize_variables at 0x000000B40D504558> could not be transformed and will be executed as-is. Please report this to the AutoGraph team. When filing the bug, set the verbosity to 10 (on Linux, `export AUTOGRAPH_VERBOSITY=10`) and attach the full output. Cause: module 'gast' has no attribute 'Num'\n",
      "40000/40000 [==============================] - 48s 1ms/sample - loss: 0.5849 - accuracy: 0.7837 - val_loss: 0.3941 - val_accuracy: 0.8547\n",
      "Epoch 2/15\n",
      "40000/40000 [==============================] - 47s 1ms/sample - loss: 0.3467 - accuracy: 0.8733 - val_loss: 0.3690 - val_accuracy: 0.8608\n",
      "Epoch 3/15\n",
      "40000/40000 [==============================] - 48s 1ms/sample - loss: 0.2910 - accuracy: 0.8934 - val_loss: 0.2827 - val_accuracy: 0.8977\n",
      "Epoch 4/15\n",
      "40000/40000 [==============================] - 38s 959us/sample - loss: 0.2575 - accuracy: 0.9043 - val_loss: 0.2847 - val_accuracy: 0.8940\n",
      "Epoch 5/15\n",
      "40000/40000 [==============================] - 44s 1ms/sample - loss: 0.2317 - accuracy: 0.9152 - val_loss: 0.3426 - val_accuracy: 0.8770\n",
      "Epoch 6/15\n",
      "40000/40000 [==============================] - 47s 1ms/sample - loss: 0.2079 - accuracy: 0.9225 - val_loss: 0.2994 - val_accuracy: 0.8983\n",
      "Epoch 7/15\n",
      "40000/40000 [==============================] - 43s 1ms/sample - loss: 0.1872 - accuracy: 0.9309 - val_loss: 0.2929 - val_accuracy: 0.8982\n",
      "Epoch 8/15\n",
      "40000/40000 [==============================] - 43s 1ms/sample - loss: 0.1714 - accuracy: 0.9366 - val_loss: 0.2801 - val_accuracy: 0.9049\n",
      "Epoch 9/15\n",
      "40000/40000 [==============================] - 45s 1ms/sample - loss: 0.1571 - accuracy: 0.9422 - val_loss: 0.3829 - val_accuracy: 0.8891\n",
      "Epoch 10/15\n",
      "40000/40000 [==============================] - 43s 1ms/sample - loss: 0.1445 - accuracy: 0.9469 - val_loss: 0.3389 - val_accuracy: 0.9043\n",
      "Epoch 11/15\n",
      "40000/40000 [==============================] - 44s 1ms/sample - loss: 0.1323 - accuracy: 0.9508 - val_loss: 0.3524 - val_accuracy: 0.9017\n",
      "Epoch 12/15\n",
      "40000/40000 [==============================] - 43s 1ms/sample - loss: 0.1242 - accuracy: 0.9550 - val_loss: 0.3349 - val_accuracy: 0.9031\n",
      "Epoch 13/15\n",
      "40000/40000 [==============================] - 44s 1ms/sample - loss: 0.1149 - accuracy: 0.9572 - val_loss: 0.4740 - val_accuracy: 0.9031\n",
      "Epoch 14/15\n",
      "40000/40000 [==============================] - 42s 1ms/sample - loss: 0.1083 - accuracy: 0.9599 - val_loss: 0.4050 - val_accuracy: 0.9074\n",
      "Epoch 15/15\n",
      "40000/40000 [==============================] - 46s 1ms/sample - loss: 0.1027 - accuracy: 0.9627 - val_loss: 0.4460 - val_accuracy: 0.9050\n"
     ]
    }
   ],
   "source": [
    "history5 = model5.fit(partial_images, \n",
    "          partial_labels, \n",
    "          epochs=15, \n",
    "          batch_size=64,\n",
    "          validation_data=(val_images, val_labels))"
   ]
  },
  {
   "cell_type": "code",
   "execution_count": 19,
   "metadata": {},
   "outputs": [
    {
     "data": {
      "image/png": "[encoded data removed]",
      "text/plain": [
       "<Figure size 432x288 with 1 Axes>"
      ]
     },
     "metadata": {
      "needs_background": "light"
     },
     "output_type": "display_data"
    },
    {
     "data": {
      "image/png": "[encoded data removed]",
      "text/plain": [
       "<Figure size 432x288 with 1 Axes>"
      ]
     },
     "metadata": {
      "needs_background": "light"
     },
     "output_type": "display_data"
    }
   ],
   "source": [
    "acc = history5.history['accuracy']\n",
    "val_acc = history5.history['val_accuracy']\n",
    "loss = history5.history['loss']\n",
    "val_loss = history5.history['val_loss']\n",
    "\n",
    "epochs = range(1, len(loss) + 1)\n",
    "\n",
    "plt.plot(epochs, acc, 'bo', label='Training acc')\n",
    "plt.plot(epochs, val_acc, 'b', label='Validation acc')\n",
    "plt.title('Training and validation accuracy')\n",
    "plt.legend()\n",
    "\n",
    "plt.figure()\n",
    "\n",
    "plt.plot(epochs, loss, 'bo', label='Training loss')\n",
    "plt.plot(epochs, val_loss, 'b', label='Validation loss')\n",
    "plt.title('Training and validation loss')\n",
    "plt.legend()\n",
    "\n",
    "plt.show()"
   ]
  },
  {
   "cell_type": "markdown",
   "metadata": {},
   "source": [
    "##### Testing"
   ]
  },
  {
   "cell_type": "code",
   "execution_count": 20,
   "metadata": {},
   "outputs": [
    {
     "name": "stdout",
     "output_type": "stream",
     "text": [
      "test_acc: 0.8993\n"
     ]
    }
   ],
   "source": [
    "test_loss, test_acc = model5.evaluate(test_images, test_labels, verbose=0)\n",
    "print('test_acc:', test_acc)"
   ]
  },
  {
   "cell_type": "markdown",
   "metadata": {},
   "source": [
    "##### Results"
   ]
  },
  {
   "cell_type": "markdown",
   "metadata": {},
   "source": [
    "It is obvious at this point that increasing the size of the first dense layer is not helping train our network more accurately."
   ]
  },
  {
   "cell_type": "markdown",
   "metadata": {},
   "source": [
    "#### Model 6\n",
    "\n",
    "For the sixth model, we'll try doing the opposite. We will decrease the number of nodes of the first dense layer. "
   ]
  },
  {
   "cell_type": "markdown",
   "metadata": {},
   "source": [
    "##### Build"
   ]
  },
  {
   "cell_type": "code",
   "execution_count": 21,
   "metadata": {},
   "outputs": [],
   "source": [
    "model6 = models.Sequential()\n",
    "model6.add(layers.Conv2D(32, (3, 3), activation='relu', input_shape=(28, 28, 1)))\n",
    "model6.add(layers.MaxPooling2D((2, 2)))\n",
    "model6.add(layers.Conv2D(64, (3, 3), activation='relu'))\n",
    "model6.add(layers.MaxPooling2D((2, 2)))\n",
    "model6.add(layers.Conv2D(128, (3, 3), activation='relu'))"
   ]
  },
  {
   "cell_type": "code",
   "execution_count": 22,
   "metadata": {},
   "outputs": [],
   "source": [
    "model6.add(layers.Flatten())\n",
    "model6.add(layers.Dense(32, activation='relu'))\n",
    "model6.add(layers.Dense(10, activation='softmax'))"
   ]
  },
  {
   "cell_type": "code",
   "execution_count": 23,
   "metadata": {},
   "outputs": [
    {
     "name": "stdout",
     "output_type": "stream",
     "text": [
      "Model: \"sequential_2\"\n",
      "_________________________________________________________________\n",
      "Layer (type)                 Output Shape              Param #   \n",
      "=================================================================\n",
      "conv2d_6 (Conv2D)            (None, 26, 26, 32)        320       \n",
      "_________________________________________________________________\n",
      "max_pooling2d_4 (MaxPooling2 (None, 13, 13, 32)        0         \n",
      "_________________________________________________________________\n",
      "conv2d_7 (Conv2D)            (None, 11, 11, 64)        18496     \n",
      "_________________________________________________________________\n",
      "max_pooling2d_5 (MaxPooling2 (None, 5, 5, 64)          0         \n",
      "_________________________________________________________________\n",
      "conv2d_8 (Conv2D)            (None, 3, 3, 128)         73856     \n",
      "_________________________________________________________________\n",
      "flatten_2 (Flatten)          (None, 1152)              0         \n",
      "_________________________________________________________________\n",
      "dense_4 (Dense)              (None, 32)                36896     \n",
      "_________________________________________________________________\n",
      "dense_5 (Dense)              (None, 10)                330       \n",
      "=================================================================\n",
      "Total params: 129,898\n",
      "Trainable params: 129,898\n",
      "Non-trainable params: 0\n",
      "_________________________________________________________________\n"
     ]
    }
   ],
   "source": [
    "model6.summary()"
   ]
  },
  {
   "cell_type": "markdown",
   "metadata": {},
   "source": [
    "##### Compilation"
   ]
  },
  {
   "cell_type": "code",
   "execution_count": 24,
   "metadata": {},
   "outputs": [],
   "source": [
    "model6.compile(optimizer='rmsprop',\n",
    "              loss='categorical_crossentropy',\n",
    "              metrics=['accuracy'])"
   ]
  },
  {
   "cell_type": "markdown",
   "metadata": {},
   "source": [
    "##### Training"
   ]
  },
  {
   "cell_type": "code",
   "execution_count": 25,
   "metadata": {},
   "outputs": [
    {
     "name": "stdout",
     "output_type": "stream",
     "text": [
      "Train on 40000 samples, validate on 20000 samples\n",
      "Epoch 1/15\n",
      "WARNING:tensorflow:Entity <function Function._initialize_uninitialized_variables.<locals>.initialize_variables at 0x000000B40E8A4F78> could not be transformed and will be executed as-is. Please report this to the AutoGraph team. When filing the bug, set the verbosity to 10 (on Linux, `export AUTOGRAPH_VERBOSITY=10`) and attach the full output. Cause: module 'gast' has no attribute 'Num'\n",
      "WARNING: Entity <function Function._initialize_uninitialized_variables.<locals>.initialize_variables at 0x000000B40E8A4F78> could not be transformed and will be executed as-is. Please report this to the AutoGraph team. When filing the bug, set the verbosity to 10 (on Linux, `export AUTOGRAPH_VERBOSITY=10`) and attach the full output. Cause: module 'gast' has no attribute 'Num'\n",
      "40000/40000 [==============================] - 41s 1ms/sample - loss: 0.6099 - accuracy: 0.7758 - val_loss: 0.4100 - val_accuracy: 0.8518\n",
      "Epoch 2/15\n",
      "40000/40000 [==============================] - 43s 1ms/sample - loss: 0.3597 - accuracy: 0.8709 - val_loss: 0.3436 - val_accuracy: 0.8742\n",
      "Epoch 3/15\n",
      "40000/40000 [==============================] - 41s 1ms/sample - loss: 0.3035 - accuracy: 0.8902 - val_loss: 0.2994 - val_accuracy: 0.8891\n",
      "Epoch 4/15\n",
      "40000/40000 [==============================] - 40s 1ms/sample - loss: 0.2677 - accuracy: 0.9016 - val_loss: 0.2863 - val_accuracy: 0.8965\n",
      "Epoch 5/15\n",
      "40000/40000 [==============================] - 40s 995us/sample - loss: 0.2401 - accuracy: 0.9122 - val_loss: 0.2702 - val_accuracy: 0.8992\n",
      "Epoch 6/15\n",
      "40000/40000 [==============================] - 40s 1000us/sample - loss: 0.2175 - accuracy: 0.9218 - val_loss: 0.2609 - val_accuracy: 0.9064\n",
      "Epoch 7/15\n",
      "40000/40000 [==============================] - 40s 992us/sample - loss: 0.1984 - accuracy: 0.9274 - val_loss: 0.2488 - val_accuracy: 0.9099\n",
      "Epoch 8/15\n",
      "40000/40000 [==============================] - 40s 998us/sample - loss: 0.1794 - accuracy: 0.9344 - val_loss: 0.2632 - val_accuracy: 0.9057\n",
      "Epoch 9/15\n",
      "40000/40000 [==============================] - 41s 1ms/sample - loss: 0.1608 - accuracy: 0.9408 - val_loss: 0.2797 - val_accuracy: 0.9019\n",
      "Epoch 10/15\n",
      "40000/40000 [==============================] - 40s 992us/sample - loss: 0.1477 - accuracy: 0.9455 - val_loss: 0.2803 - val_accuracy: 0.9044\n",
      "Epoch 11/15\n",
      "40000/40000 [==============================] - 43s 1ms/sample - loss: 0.1344 - accuracy: 0.9506 - val_loss: 0.3100 - val_accuracy: 0.9004\n",
      "Epoch 12/15\n",
      "40000/40000 [==============================] - 41s 1ms/sample - loss: 0.1226 - accuracy: 0.9553 - val_loss: 0.2959 - val_accuracy: 0.9043\n",
      "Epoch 13/15\n",
      "40000/40000 [==============================] - 41s 1ms/sample - loss: 0.1089 - accuracy: 0.9608 - val_loss: 0.3252 - val_accuracy: 0.9038\n",
      "Epoch 14/15\n",
      "40000/40000 [==============================] - 43s 1ms/sample - loss: 0.1008 - accuracy: 0.9633 - val_loss: 0.3436 - val_accuracy: 0.9057\n",
      "Epoch 15/15\n",
      "40000/40000 [==============================] - 42s 1ms/sample - loss: 0.0915 - accuracy: 0.9660 - val_loss: 0.3963 - val_accuracy: 0.9047\n"
     ]
    }
   ],
   "source": [
    "history6 = model6.fit(partial_images, \n",
    "          partial_labels, \n",
    "          epochs=15, \n",
    "          batch_size=64,\n",
    "          validation_data=(val_images, val_labels))"
   ]
  },
  {
   "cell_type": "code",
   "execution_count": 26,
   "metadata": {},
   "outputs": [
    {
     "data": {
      "image/png": "[encoded data removed]",
      "text/plain": [
       "<Figure size 432x288 with 1 Axes>"
      ]
     },
     "metadata": {
      "needs_background": "light"
     },
     "output_type": "display_data"
    },
    {
     "data": {
      "image/png": "[encoded data removed]",
      "text/plain": [
       "<Figure size 432x288 with 1 Axes>"
      ]
     },
     "metadata": {
      "needs_background": "light"
     },
     "output_type": "display_data"
    }
   ],
   "source": [
    "acc = history6.history['accuracy']\n",
    "val_acc = history6.history['val_accuracy']\n",
    "loss = history6.history['loss']\n",
    "val_loss = history6.history['val_loss']\n",
    "\n",
    "epochs = range(1, len(loss) + 1)\n",
    "\n",
    "plt.plot(epochs, acc, 'bo', label='Training acc')\n",
    "plt.plot(epochs, val_acc, 'b', label='Validation acc')\n",
    "plt.title('Training and validation accuracy')\n",
    "plt.legend()\n",
    "\n",
    "plt.figure()\n",
    "\n",
    "plt.plot(epochs, loss, 'bo', label='Training loss')\n",
    "plt.plot(epochs, val_loss, 'b', label='Validation loss')\n",
    "plt.title('Training and validation loss')\n",
    "plt.legend()\n",
    "\n",
    "plt.show()"
   ]
  },
  {
   "cell_type": "markdown",
   "metadata": {},
   "source": [
    "##### Testing"
   ]
  },
  {
   "cell_type": "code",
   "execution_count": 27,
   "metadata": {},
   "outputs": [
    {
     "name": "stdout",
     "output_type": "stream",
     "text": [
      "test_acc: 0.8992\n"
     ]
    }
   ],
   "source": [
    "test_loss, test_acc = model6.evaluate(test_images, test_labels, verbose=0)\n",
    "print('test_acc:', test_acc)"
   ]
  },
  {
   "cell_type": "markdown",
   "metadata": {},
   "source": [
    "##### Results"
   ]
  },
  {
   "cell_type": "markdown",
   "metadata": {},
   "source": [
    "Changing the size of the first dense layer doesn't seem to have much effect on the training in general. We will leave it at 64."
   ]
  },
  {
   "cell_type": "markdown",
   "metadata": {},
   "source": [
    "#### Model 7\n",
    "\n",
    "In this model, we will increase the batch size."
   ]
  },
  {
   "cell_type": "markdown",
   "metadata": {},
   "source": [
    "##### Build"
   ]
  },
  {
   "cell_type": "code",
   "execution_count": 45,
   "metadata": {},
   "outputs": [],
   "source": [
    "model7 = models.Sequential()\n",
    "model7.add(layers.Conv2D(32, (3, 3), activation='relu', input_shape=(28, 28, 1)))\n",
    "model7.add(layers.MaxPooling2D((2, 2)))\n",
    "model7.add(layers.Conv2D(64, (3, 3), activation='relu'))\n",
    "model7.add(layers.MaxPooling2D((2, 2)))\n",
    "model7.add(layers.Conv2D(128, (3, 3), activation='relu'))"
   ]
  },
  {
   "cell_type": "code",
   "execution_count": 46,
   "metadata": {},
   "outputs": [],
   "source": [
    "model7.add(layers.Flatten())\n",
    "model7.add(layers.Dense(64, activation='relu'))\n",
    "model7.add(layers.Dense(10, activation='softmax'))"
   ]
  },
  {
   "cell_type": "code",
   "execution_count": 47,
   "metadata": {},
   "outputs": [
    {
     "name": "stdout",
     "output_type": "stream",
     "text": [
      "Model: \"sequential_5\"\n",
      "_________________________________________________________________\n",
      "Layer (type)                 Output Shape              Param #   \n",
      "=================================================================\n",
      "conv2d_15 (Conv2D)           (None, 26, 26, 32)        320       \n",
      "_________________________________________________________________\n",
      "max_pooling2d_10 (MaxPooling (None, 13, 13, 32)        0         \n",
      "_________________________________________________________________\n",
      "conv2d_16 (Conv2D)           (None, 11, 11, 64)        18496     \n",
      "_________________________________________________________________\n",
      "max_pooling2d_11 (MaxPooling (None, 5, 5, 64)          0         \n",
      "_________________________________________________________________\n",
      "conv2d_17 (Conv2D)           (None, 3, 3, 128)         73856     \n",
      "_________________________________________________________________\n",
      "flatten_5 (Flatten)          (None, 1152)              0         \n",
      "_________________________________________________________________\n",
      "dense_10 (Dense)             (None, 64)                73792     \n",
      "_________________________________________________________________\n",
      "dense_11 (Dense)             (None, 10)                650       \n",
      "=================================================================\n",
      "Total params: 167,114\n",
      "Trainable params: 167,114\n",
      "Non-trainable params: 0\n",
      "_________________________________________________________________\n"
     ]
    }
   ],
   "source": [
    "model7.summary()"
   ]
  },
  {
   "cell_type": "markdown",
   "metadata": {},
   "source": [
    "##### Compilation"
   ]
  },
  {
   "cell_type": "code",
   "execution_count": 48,
   "metadata": {},
   "outputs": [],
   "source": [
    "model7.compile(optimizer='rmsprop',\n",
    "              loss='categorical_crossentropy',\n",
    "              metrics=['accuracy'])"
   ]
  },
  {
   "cell_type": "markdown",
   "metadata": {},
   "source": [
    "##### Training"
   ]
  },
  {
   "cell_type": "code",
   "execution_count": 52,
   "metadata": {},
   "outputs": [
    {
     "name": "stdout",
     "output_type": "stream",
     "text": [
      "Train on 40000 samples, validate on 20000 samples\n",
      "Epoch 1/15\n",
      "WARNING:tensorflow:Entity <function Function._initialize_uninitialized_variables.<locals>.initialize_variables at 0x000000B413B0AD38> could not be transformed and will be executed as-is. Please report this to the AutoGraph team. When filing the bug, set the verbosity to 10 (on Linux, `export AUTOGRAPH_VERBOSITY=10`) and attach the full output. Cause: module 'gast' has no attribute 'Num'\n",
      "WARNING: Entity <function Function._initialize_uninitialized_variables.<locals>.initialize_variables at 0x000000B413B0AD38> could not be transformed and will be executed as-is. Please report this to the AutoGraph team. When filing the bug, set the verbosity to 10 (on Linux, `export AUTOGRAPH_VERBOSITY=10`) and attach the full output. Cause: module 'gast' has no attribute 'Num'\n",
      "40000/40000 [==============================] - 40s 1ms/sample - loss: 0.6765 - accuracy: 0.7496 - val_loss: 0.4825 - val_accuracy: 0.8198\n",
      "Epoch 2/15\n",
      "40000/40000 [==============================] - 38s 952us/sample - loss: 0.3960 - accuracy: 0.8552 - val_loss: 0.3986 - val_accuracy: 0.8541\n",
      "Epoch 3/15\n",
      "40000/40000 [==============================] - 36s 897us/sample - loss: 0.3273 - accuracy: 0.8804 - val_loss: 0.3144 - val_accuracy: 0.8852\n",
      "Epoch 4/15\n",
      "40000/40000 [==============================] - 35s 883us/sample - loss: 0.2881 - accuracy: 0.8945 - val_loss: 0.3507 - val_accuracy: 0.8709\n",
      "Epoch 5/15\n",
      "40000/40000 [==============================] - 36s 899us/sample - loss: 0.2616 - accuracy: 0.9038 - val_loss: 0.2745 - val_accuracy: 0.8981\n",
      "Epoch 6/15\n",
      "40000/40000 [==============================] - 36s 904us/sample - loss: 0.2387 - accuracy: 0.9114 - val_loss: 0.3596 - val_accuracy: 0.8675\n",
      "Epoch 7/15\n",
      "40000/40000 [==============================] - 35s 880us/sample - loss: 0.2173 - accuracy: 0.9197 - val_loss: 0.3072 - val_accuracy: 0.8892\n",
      "Epoch 8/15\n",
      "40000/40000 [==============================] - 35s 885us/sample - loss: 0.1988 - accuracy: 0.9276 - val_loss: 0.2692 - val_accuracy: 0.9025\n",
      "Epoch 9/15\n",
      "40000/40000 [==============================] - 35s 878us/sample - loss: 0.1819 - accuracy: 0.9330 - val_loss: 0.2959 - val_accuracy: 0.8935\n",
      "Epoch 10/15\n",
      "40000/40000 [==============================] - 35s 875us/sample - loss: 0.1659 - accuracy: 0.9388 - val_loss: 0.2786 - val_accuracy: 0.9021\n",
      "Epoch 11/15\n",
      "40000/40000 [==============================] - 35s 875us/sample - loss: 0.1506 - accuracy: 0.9447 - val_loss: 0.2811 - val_accuracy: 0.9024\n",
      "Epoch 12/15\n",
      "40000/40000 [==============================] - 36s 897us/sample - loss: 0.1379 - accuracy: 0.9501 - val_loss: 0.2707 - val_accuracy: 0.9076\n",
      "Epoch 13/15\n",
      "40000/40000 [==============================] - 35s 881us/sample - loss: 0.1249 - accuracy: 0.9532 - val_loss: 0.2983 - val_accuracy: 0.9047\n",
      "Epoch 14/15\n",
      "40000/40000 [==============================] - 36s 896us/sample - loss: 0.1141 - accuracy: 0.9586 - val_loss: 0.3189 - val_accuracy: 0.9015\n",
      "Epoch 15/15\n",
      "40000/40000 [==============================] - 36s 910us/sample - loss: 0.1027 - accuracy: 0.9618 - val_loss: 0.2934 - val_accuracy: 0.9101\n"
     ]
    }
   ],
   "source": [
    "history7 = model7.fit(partial_images, \n",
    "          partial_labels, \n",
    "          epochs=15, \n",
    "          batch_size=128,\n",
    "          validation_data=(val_images, val_labels))"
   ]
  },
  {
   "cell_type": "code",
   "execution_count": 53,
   "metadata": {},
   "outputs": [
    {
     "data": {
      "image/png": "[encoded data removed]",
      "text/plain": [
       "<Figure size 432x288 with 1 Axes>"
      ]
     },
     "metadata": {
      "needs_background": "light"
     },
     "output_type": "display_data"
    },
    {
     "data": {
      "image/png": "[encoded data removed]",
      "text/plain": [
       "<Figure size 432x288 with 1 Axes>"
      ]
     },
     "metadata": {
      "needs_background": "light"
     },
     "output_type": "display_data"
    }
   ],
   "source": [
    "acc = history7.history['accuracy']\n",
    "val_acc = history7.history['val_accuracy']\n",
    "loss = history7.history['loss']\n",
    "val_loss = history7.history['val_loss']\n",
    "\n",
    "epochs = range(1, len(loss) + 1)\n",
    "\n",
    "plt.plot(epochs, acc, 'bo', label='Training acc')\n",
    "plt.plot(epochs, val_acc, 'b', label='Validation acc')\n",
    "plt.title('Training and validation accuracy')\n",
    "plt.legend()\n",
    "\n",
    "plt.figure()\n",
    "\n",
    "plt.plot(epochs, loss, 'bo', label='Training loss')\n",
    "plt.plot(epochs, val_loss, 'b', label='Validation loss')\n",
    "plt.title('Training and validation loss')\n",
    "plt.legend()\n",
    "\n",
    "plt.show()"
   ]
  },
  {
   "cell_type": "markdown",
   "metadata": {},
   "source": [
    "##### Testing"
   ]
  },
  {
   "cell_type": "code",
   "execution_count": 54,
   "metadata": {},
   "outputs": [
    {
     "name": "stdout",
     "output_type": "stream",
     "text": [
      "test_acc: 0.9079\n"
     ]
    }
   ],
   "source": [
    "test_loss, test_acc = model7.evaluate(test_images, test_labels, verbose=0)\n",
    "print('test_acc:', test_acc)"
   ]
  },
  {
   "cell_type": "markdown",
   "metadata": {},
   "source": [
    "##### Results"
   ]
  },
  {
   "cell_type": "markdown",
   "metadata": {},
   "source": [
    "Although not the highest accuracy obtained so far, 90.79% accuracy is one of the highest in the last few runs. It might be worth trying some other values of batch size."
   ]
  },
  {
   "cell_type": "markdown",
   "metadata": {},
   "source": [
    "#### Model 8\n",
    "\n",
    "In this model we'll try an even higher value for batch size."
   ]
  },
  {
   "cell_type": "markdown",
   "metadata": {},
   "source": [
    "##### Build"
   ]
  },
  {
   "cell_type": "code",
   "execution_count": 55,
   "metadata": {},
   "outputs": [],
   "source": [
    "model8 = models.Sequential()\n",
    "model8.add(layers.Conv2D(32, (3, 3), activation='relu', input_shape=(28, 28, 1)))\n",
    "model8.add(layers.MaxPooling2D((2, 2)))\n",
    "model8.add(layers.Conv2D(64, (3, 3), activation='relu'))\n",
    "model8.add(layers.MaxPooling2D((2, 2)))\n",
    "model8.add(layers.Conv2D(128, (3, 3), activation='relu'))"
   ]
  },
  {
   "cell_type": "code",
   "execution_count": 56,
   "metadata": {},
   "outputs": [],
   "source": [
    "model8.add(layers.Flatten())\n",
    "model8.add(layers.Dense(64, activation='relu'))\n",
    "model8.add(layers.Dense(10, activation='softmax'))"
   ]
  },
  {
   "cell_type": "code",
   "execution_count": 57,
   "metadata": {},
   "outputs": [
    {
     "name": "stdout",
     "output_type": "stream",
     "text": [
      "Model: \"sequential_6\"\n",
      "_________________________________________________________________\n",
      "Layer (type)                 Output Shape              Param #   \n",
      "=================================================================\n",
      "conv2d_18 (Conv2D)           (None, 26, 26, 32)        320       \n",
      "_________________________________________________________________\n",
      "max_pooling2d_12 (MaxPooling (None, 13, 13, 32)        0         \n",
      "_________________________________________________________________\n",
      "conv2d_19 (Conv2D)           (None, 11, 11, 64)        18496     \n",
      "_________________________________________________________________\n",
      "max_pooling2d_13 (MaxPooling (None, 5, 5, 64)          0         \n",
      "_________________________________________________________________\n",
      "conv2d_20 (Conv2D)           (None, 3, 3, 128)         73856     \n",
      "_________________________________________________________________\n",
      "flatten_6 (Flatten)          (None, 1152)              0         \n",
      "_________________________________________________________________\n",
      "dense_12 (Dense)             (None, 64)                73792     \n",
      "_________________________________________________________________\n",
      "dense_13 (Dense)             (None, 10)                650       \n",
      "=================================================================\n",
      "Total params: 167,114\n",
      "Trainable params: 167,114\n",
      "Non-trainable params: 0\n",
      "_________________________________________________________________\n"
     ]
    }
   ],
   "source": [
    "model8.summary()"
   ]
  },
  {
   "cell_type": "markdown",
   "metadata": {},
   "source": [
    "##### Compilation"
   ]
  },
  {
   "cell_type": "code",
   "execution_count": 58,
   "metadata": {},
   "outputs": [],
   "source": [
    "model8.compile(optimizer='rmsprop',\n",
    "              loss='categorical_crossentropy',\n",
    "              metrics=['accuracy'])"
   ]
  },
  {
   "cell_type": "markdown",
   "metadata": {},
   "source": [
    "##### Training"
   ]
  },
  {
   "cell_type": "code",
   "execution_count": 59,
   "metadata": {},
   "outputs": [
    {
     "name": "stdout",
     "output_type": "stream",
     "text": [
      "Train on 40000 samples, validate on 20000 samples\n",
      "Epoch 1/15\n",
      "WARNING:tensorflow:Entity <function Function._initialize_uninitialized_variables.<locals>.initialize_variables at 0x000000B414983318> could not be transformed and will be executed as-is. Please report this to the AutoGraph team. When filing the bug, set the verbosity to 10 (on Linux, `export AUTOGRAPH_VERBOSITY=10`) and attach the full output. Cause: module 'gast' has no attribute 'Num'\n",
      "WARNING: Entity <function Function._initialize_uninitialized_variables.<locals>.initialize_variables at 0x000000B414983318> could not be transformed and will be executed as-is. Please report this to the AutoGraph team. When filing the bug, set the verbosity to 10 (on Linux, `export AUTOGRAPH_VERBOSITY=10`) and attach the full output. Cause: module 'gast' has no attribute 'Num'\n",
      "40000/40000 [==============================] - 36s 899us/sample - loss: 0.8531 - accuracy: 0.6825 - val_loss: 0.6497 - val_accuracy: 0.7628\n",
      "Epoch 2/15\n",
      "40000/40000 [==============================] - 35s 881us/sample - loss: 0.4920 - accuracy: 0.8190 - val_loss: 0.6002 - val_accuracy: 0.7869\n",
      "Epoch 3/15\n",
      "40000/40000 [==============================] - 35s 874us/sample - loss: 0.4005 - accuracy: 0.8536 - val_loss: 0.4006 - val_accuracy: 0.8475\n",
      "Epoch 4/15\n",
      "40000/40000 [==============================] - 37s 921us/sample - loss: 0.3484 - accuracy: 0.8726 - val_loss: 0.3925 - val_accuracy: 0.8584\n",
      "Epoch 5/15\n",
      "40000/40000 [==============================] - 35s 865us/sample - loss: 0.3151 - accuracy: 0.8855 - val_loss: 0.3385 - val_accuracy: 0.8756\n",
      "Epoch 6/15\n",
      "40000/40000 [==============================] - 31s 773us/sample - loss: 0.2902 - accuracy: 0.8944 - val_loss: 0.3396 - val_accuracy: 0.8712\n",
      "Epoch 7/15\n",
      "40000/40000 [==============================] - 34s 853us/sample - loss: 0.2683 - accuracy: 0.9025 - val_loss: 0.3334 - val_accuracy: 0.8748\n",
      "Epoch 8/15\n",
      "40000/40000 [==============================] - 34s 840us/sample - loss: 0.2530 - accuracy: 0.9070 - val_loss: 0.2951 - val_accuracy: 0.8934\n",
      "Epoch 9/15\n",
      "40000/40000 [==============================] - 33s 824us/sample - loss: 0.2347 - accuracy: 0.9141 - val_loss: 0.3159 - val_accuracy: 0.8862\n",
      "Epoch 10/15\n",
      "40000/40000 [==============================] - 33s 816us/sample - loss: 0.2200 - accuracy: 0.9186 - val_loss: 0.2953 - val_accuracy: 0.8913\n",
      "Epoch 11/15\n",
      "40000/40000 [==============================] - 33s 817us/sample - loss: 0.2044 - accuracy: 0.9237 - val_loss: 0.2682 - val_accuracy: 0.9036\n",
      "Epoch 12/15\n",
      "40000/40000 [==============================] - 33s 814us/sample - loss: 0.1901 - accuracy: 0.9311 - val_loss: 0.2711 - val_accuracy: 0.8977\n",
      "Epoch 13/15\n",
      "40000/40000 [==============================] - 33s 825us/sample - loss: 0.1794 - accuracy: 0.9334 - val_loss: 0.3009 - val_accuracy: 0.8876\n",
      "Epoch 14/15\n",
      "40000/40000 [==============================] - 33s 819us/sample - loss: 0.1657 - accuracy: 0.9395 - val_loss: 0.3497 - val_accuracy: 0.8738\n",
      "Epoch 15/15\n",
      "40000/40000 [==============================] - 35s 867us/sample - loss: 0.1537 - accuracy: 0.9438 - val_loss: 0.3441 - val_accuracy: 0.8849\n"
     ]
    }
   ],
   "source": [
    "history8 = model8.fit(partial_images, \n",
    "          partial_labels, \n",
    "          epochs=15, \n",
    "          batch_size=256,\n",
    "          validation_data=(val_images, val_labels))"
   ]
  },
  {
   "cell_type": "code",
   "execution_count": 61,
   "metadata": {},
   "outputs": [
    {
     "data": {
      "image/png": "[encoded data removed]",
      "text/plain": [
       "<Figure size 432x288 with 1 Axes>"
      ]
     },
     "metadata": {
      "needs_background": "light"
     },
     "output_type": "display_data"
    },
    {
     "data": {
      "image/png": "[encoded data removed]",
      "text/plain": [
       "<Figure size 432x288 with 1 Axes>"
      ]
     },
     "metadata": {
      "needs_background": "light"
     },
     "output_type": "display_data"
    }
   ],
   "source": [
    "acc = history8.history['accuracy']\n",
    "val_acc = history8.history['val_accuracy']\n",
    "loss = history8.history['loss']\n",
    "val_loss = history8.history['val_loss']\n",
    "\n",
    "epochs = range(1, len(loss) + 1)\n",
    "\n",
    "plt.plot(epochs, acc, 'bo', label='Training acc')\n",
    "plt.plot(epochs, val_acc, 'b', label='Validation acc')\n",
    "plt.title('Training and validation accuracy')\n",
    "plt.legend()\n",
    "\n",
    "plt.figure()\n",
    "\n",
    "plt.plot(epochs, loss, 'bo', label='Training loss')\n",
    "plt.plot(epochs, val_loss, 'b', label='Validation loss')\n",
    "plt.title('Training and validation loss')\n",
    "plt.legend()\n",
    "\n",
    "plt.show()"
   ]
  },
  {
   "cell_type": "markdown",
   "metadata": {},
   "source": [
    "##### Testing"
   ]
  },
  {
   "cell_type": "code",
   "execution_count": 62,
   "metadata": {},
   "outputs": [
    {
     "name": "stdout",
     "output_type": "stream",
     "text": [
      "test_acc: 0.8862\n"
     ]
    }
   ],
   "source": [
    "test_loss, test_acc = model8.evaluate(test_images, test_labels, verbose=0)\n",
    "print('test_acc:', test_acc)"
   ]
  },
  {
   "cell_type": "markdown",
   "metadata": {},
   "source": [
    "##### Results"
   ]
  },
  {
   "cell_type": "markdown",
   "metadata": {},
   "source": [
    "Batch size of 256 was unsuccesful in gaining accuracy, as it went down to 88.62%."
   ]
  },
  {
   "cell_type": "markdown",
   "metadata": {},
   "source": [
    "#### Model 9\n",
    "\n",
    "Increasing the batch size proved unsuccesful, so for this model we will decrease it."
   ]
  },
  {
   "cell_type": "markdown",
   "metadata": {},
   "source": [
    "##### Build"
   ]
  },
  {
   "cell_type": "code",
   "execution_count": 63,
   "metadata": {},
   "outputs": [],
   "source": [
    "model9 = models.Sequential()\n",
    "model9.add(layers.Conv2D(32, (3, 3), activation='relu', input_shape=(28, 28, 1)))\n",
    "model9.add(layers.MaxPooling2D((2, 2)))\n",
    "model9.add(layers.Conv2D(64, (3, 3), activation='relu'))\n",
    "model9.add(layers.MaxPooling2D((2, 2)))\n",
    "model9.add(layers.Conv2D(128, (3, 3), activation='relu'))"
   ]
  },
  {
   "cell_type": "code",
   "execution_count": 64,
   "metadata": {},
   "outputs": [],
   "source": [
    "model9.add(layers.Flatten())\n",
    "model9.add(layers.Dense(64, activation='relu'))\n",
    "model9.add(layers.Dense(10, activation='softmax'))"
   ]
  },
  {
   "cell_type": "code",
   "execution_count": 65,
   "metadata": {},
   "outputs": [
    {
     "name": "stdout",
     "output_type": "stream",
     "text": [
      "Model: \"sequential_7\"\n",
      "_________________________________________________________________\n",
      "Layer (type)                 Output Shape              Param #   \n",
      "=================================================================\n",
      "conv2d_21 (Conv2D)           (None, 26, 26, 32)        320       \n",
      "_________________________________________________________________\n",
      "max_pooling2d_14 (MaxPooling (None, 13, 13, 32)        0         \n",
      "_________________________________________________________________\n",
      "conv2d_22 (Conv2D)           (None, 11, 11, 64)        18496     \n",
      "_________________________________________________________________\n",
      "max_pooling2d_15 (MaxPooling (None, 5, 5, 64)          0         \n",
      "_________________________________________________________________\n",
      "conv2d_23 (Conv2D)           (None, 3, 3, 128)         73856     \n",
      "_________________________________________________________________\n",
      "flatten_7 (Flatten)          (None, 1152)              0         \n",
      "_________________________________________________________________\n",
      "dense_14 (Dense)             (None, 64)                73792     \n",
      "_________________________________________________________________\n",
      "dense_15 (Dense)             (None, 10)                650       \n",
      "=================================================================\n",
      "Total params: 167,114\n",
      "Trainable params: 167,114\n",
      "Non-trainable params: 0\n",
      "_________________________________________________________________\n"
     ]
    }
   ],
   "source": [
    "model9.summary()"
   ]
  },
  {
   "cell_type": "markdown",
   "metadata": {},
   "source": [
    "##### Compilation"
   ]
  },
  {
   "cell_type": "code",
   "execution_count": 66,
   "metadata": {},
   "outputs": [],
   "source": [
    "model9.compile(optimizer='rmsprop',\n",
    "              loss='categorical_crossentropy',\n",
    "              metrics=['accuracy'])"
   ]
  },
  {
   "cell_type": "markdown",
   "metadata": {},
   "source": [
    "##### Training"
   ]
  },
  {
   "cell_type": "code",
   "execution_count": 67,
   "metadata": {},
   "outputs": [
    {
     "name": "stdout",
     "output_type": "stream",
     "text": [
      "Train on 40000 samples, validate on 20000 samples\n",
      "Epoch 1/15\n",
      "WARNING:tensorflow:Entity <function Function._initialize_uninitialized_variables.<locals>.initialize_variables at 0x000000B410868C18> could not be transformed and will be executed as-is. Please report this to the AutoGraph team. When filing the bug, set the verbosity to 10 (on Linux, `export AUTOGRAPH_VERBOSITY=10`) and attach the full output. Cause: module 'gast' has no attribute 'Num'\n",
      "WARNING: Entity <function Function._initialize_uninitialized_variables.<locals>.initialize_variables at 0x000000B410868C18> could not be transformed and will be executed as-is. Please report this to the AutoGraph team. When filing the bug, set the verbosity to 10 (on Linux, `export AUTOGRAPH_VERBOSITY=10`) and attach the full output. Cause: module 'gast' has no attribute 'Num'\n",
      "40000/40000 [==============================] - 41s 1ms/sample - loss: 0.5224 - accuracy: 0.8087 - val_loss: 0.3466 - val_accuracy: 0.8748\n",
      "Epoch 2/15\n",
      "40000/40000 [==============================] - 40s 1ms/sample - loss: 0.3284 - accuracy: 0.8826 - val_loss: 0.3030 - val_accuracy: 0.8858\n",
      "Epoch 3/15\n",
      "40000/40000 [==============================] - 41s 1ms/sample - loss: 0.2774 - accuracy: 0.8980 - val_loss: 0.2921 - val_accuracy: 0.8932\n",
      "Epoch 4/15\n",
      "40000/40000 [==============================] - 38s 956us/sample - loss: 0.2490 - accuracy: 0.9100 - val_loss: 0.2753 - val_accuracy: 0.9026\n",
      "Epoch 5/15\n",
      "40000/40000 [==============================] - 39s 985us/sample - loss: 0.2252 - accuracy: 0.9190 - val_loss: 0.2738 - val_accuracy: 0.9003\n",
      "Epoch 6/15\n",
      "40000/40000 [==============================] - 41s 1ms/sample - loss: 0.2084 - accuracy: 0.9247 - val_loss: 0.2862 - val_accuracy: 0.8999\n",
      "Epoch 7/15\n",
      "40000/40000 [==============================] - 42s 1ms/sample - loss: 0.1901 - accuracy: 0.9313 - val_loss: 0.2759 - val_accuracy: 0.9096\n",
      "Epoch 8/15\n",
      "40000/40000 [==============================] - 39s 972us/sample - loss: 0.1806 - accuracy: 0.9353 - val_loss: 0.2820 - val_accuracy: 0.9015\n",
      "Epoch 9/15\n",
      "40000/40000 [==============================] - 39s 971us/sample - loss: 0.1704 - accuracy: 0.9399 - val_loss: 0.3343 - val_accuracy: 0.8857\n",
      "Epoch 10/15\n",
      "40000/40000 [==============================] - 43s 1ms/sample - loss: 0.1630 - accuracy: 0.9433 - val_loss: 0.3129 - val_accuracy: 0.9006\n",
      "Epoch 11/15\n",
      "40000/40000 [==============================] - 38s 942us/sample - loss: 0.1571 - accuracy: 0.9446 - val_loss: 0.3409 - val_accuracy: 0.9057\n",
      "Epoch 12/15\n",
      "40000/40000 [==============================] - 40s 995us/sample - loss: 0.1504 - accuracy: 0.9486 - val_loss: 0.3232 - val_accuracy: 0.9010\n",
      "Epoch 13/15\n",
      "40000/40000 [==============================] - 39s 977us/sample - loss: 0.1474 - accuracy: 0.9480 - val_loss: 0.3437 - val_accuracy: 0.9026\n",
      "Epoch 14/15\n",
      "40000/40000 [==============================] - 43s 1ms/sample - loss: 0.1496 - accuracy: 0.9474 - val_loss: 0.3393 - val_accuracy: 0.8999\n",
      "Epoch 15/15\n",
      "40000/40000 [==============================] - 39s 974us/sample - loss: 0.1430 - accuracy: 0.9513 - val_loss: 0.4222 - val_accuracy: 0.9036\n"
     ]
    }
   ],
   "source": [
    "history9 = model9.fit(partial_images, \n",
    "          partial_labels, \n",
    "          epochs=15, \n",
    "          batch_size=32,\n",
    "          validation_data=(val_images, val_labels))"
   ]
  },
  {
   "cell_type": "code",
   "execution_count": 68,
   "metadata": {},
   "outputs": [
    {
     "data": {
      "image/png": "[encoded data removed]",
      "text/plain": [
       "<Figure size 432x288 with 1 Axes>"
      ]
     },
     "metadata": {
      "needs_background": "light"
     },
     "output_type": "display_data"
    },
    {
     "data": {
      "image/png": "[encoded data removed]",
      "text/plain": [
       "<Figure size 432x288 with 1 Axes>"
      ]
     },
     "metadata": {
      "needs_background": "light"
     },
     "output_type": "display_data"
    }
   ],
   "source": [
    "acc = history9.history['accuracy']\n",
    "val_acc = history9.history['val_accuracy']\n",
    "loss = history9.history['loss']\n",
    "val_loss = history9.history['val_loss']\n",
    "\n",
    "epochs = range(1, len(loss) + 1)\n",
    "\n",
    "plt.plot(epochs, acc, 'bo', label='Training acc')\n",
    "plt.plot(epochs, val_acc, 'b', label='Validation acc')\n",
    "plt.title('Training and validation accuracy')\n",
    "plt.legend()\n",
    "\n",
    "plt.figure()\n",
    "\n",
    "plt.plot(epochs, loss, 'bo', label='Training loss')\n",
    "plt.plot(epochs, val_loss, 'b', label='Validation loss')\n",
    "plt.title('Training and validation loss')\n",
    "plt.legend()\n",
    "\n",
    "plt.show()"
   ]
  },
  {
   "cell_type": "markdown",
   "metadata": {},
   "source": [
    "##### Testing"
   ]
  },
  {
   "cell_type": "code",
   "execution_count": 69,
   "metadata": {},
   "outputs": [
    {
     "name": "stdout",
     "output_type": "stream",
     "text": [
      "test_acc: 0.9017\n"
     ]
    }
   ],
   "source": [
    "test_loss, test_acc = model9.evaluate(test_images, test_labels, verbose=0)\n",
    "print('test_acc:', test_acc)"
   ]
  },
  {
   "cell_type": "markdown",
   "metadata": {},
   "source": [
    "##### Results"
   ]
  },
  {
   "cell_type": "markdown",
   "metadata": {},
   "source": [
    "Again, the accuracy remains around 90%. Decreasing the batch size also proved unsuccesful. So far we have seen very little variation in our results from hyper-paramter tuning."
   ]
  },
  {
   "cell_type": "markdown",
   "metadata": {},
   "source": [
    "#### Model 10\n",
    "\n",
    "In this model we will add two dropout layers."
   ]
  },
  {
   "cell_type": "markdown",
   "metadata": {},
   "source": [
    "##### Build"
   ]
  },
  {
   "cell_type": "code",
   "execution_count": 70,
   "metadata": {},
   "outputs": [],
   "source": [
    "model10 = models.Sequential()\n",
    "model10.add(layers.Conv2D(32, (3, 3), activation='relu', input_shape=(28, 28, 1)))\n",
    "model10.add(layers.MaxPooling2D((2, 2)))\n",
    "model10.add(layers.Dropout(0.25))\n",
    "model10.add(layers.Conv2D(64, (3, 3), activation='relu'))\n",
    "model10.add(layers.MaxPooling2D((2, 2)))\n",
    "model10.add(layers.Dropout(0.25))\n",
    "model10.add(layers.Conv2D(128, (3, 3), activation='relu'))"
   ]
  },
  {
   "cell_type": "code",
   "execution_count": 71,
   "metadata": {},
   "outputs": [],
   "source": [
    "model10.add(layers.Flatten())\n",
    "model10.add(layers.Dense(64, activation='relu'))\n",
    "model10.add(layers.Dense(10, activation='softmax'))"
   ]
  },
  {
   "cell_type": "code",
   "execution_count": 72,
   "metadata": {},
   "outputs": [
    {
     "name": "stdout",
     "output_type": "stream",
     "text": [
      "Model: \"sequential_8\"\n",
      "_________________________________________________________________\n",
      "Layer (type)                 Output Shape              Param #   \n",
      "=================================================================\n",
      "conv2d_24 (Conv2D)           (None, 26, 26, 32)        320       \n",
      "_________________________________________________________________\n",
      "max_pooling2d_16 (MaxPooling (None, 13, 13, 32)        0         \n",
      "_________________________________________________________________\n",
      "dropout (Dropout)            (None, 13, 13, 32)        0         \n",
      "_________________________________________________________________\n",
      "conv2d_25 (Conv2D)           (None, 11, 11, 64)        18496     \n",
      "_________________________________________________________________\n",
      "max_pooling2d_17 (MaxPooling (None, 5, 5, 64)          0         \n",
      "_________________________________________________________________\n",
      "dropout_1 (Dropout)          (None, 5, 5, 64)          0         \n",
      "_________________________________________________________________\n",
      "conv2d_26 (Conv2D)           (None, 3, 3, 128)         73856     \n",
      "_________________________________________________________________\n",
      "flatten_8 (Flatten)          (None, 1152)              0         \n",
      "_________________________________________________________________\n",
      "dense_16 (Dense)             (None, 64)                73792     \n",
      "_________________________________________________________________\n",
      "dense_17 (Dense)             (None, 10)                650       \n",
      "=================================================================\n",
      "Total params: 167,114\n",
      "Trainable params: 167,114\n",
      "Non-trainable params: 0\n",
      "_________________________________________________________________\n"
     ]
    }
   ],
   "source": [
    "model10.summary()"
   ]
  },
  {
   "cell_type": "markdown",
   "metadata": {},
   "source": [
    "##### Compilation"
   ]
  },
  {
   "cell_type": "code",
   "execution_count": 73,
   "metadata": {},
   "outputs": [],
   "source": [
    "model10.compile(optimizer='rmsprop',\n",
    "              loss='categorical_crossentropy',\n",
    "              metrics=['accuracy'])"
   ]
  },
  {
   "cell_type": "markdown",
   "metadata": {},
   "source": [
    "##### Training"
   ]
  },
  {
   "cell_type": "code",
   "execution_count": 74,
   "metadata": {},
   "outputs": [
    {
     "name": "stdout",
     "output_type": "stream",
     "text": [
      "Train on 40000 samples, validate on 20000 samples\n",
      "Epoch 1/15\n",
      "WARNING:tensorflow:Entity <function Function._initialize_uninitialized_variables.<locals>.initialize_variables at 0x000000B40E632AF8> could not be transformed and will be executed as-is. Please report this to the AutoGraph team. When filing the bug, set the verbosity to 10 (on Linux, `export AUTOGRAPH_VERBOSITY=10`) and attach the full output. Cause: module 'gast' has no attribute 'Num'\n",
      "WARNING: Entity <function Function._initialize_uninitialized_variables.<locals>.initialize_variables at 0x000000B40E632AF8> could not be transformed and will be executed as-is. Please report this to the AutoGraph team. When filing the bug, set the verbosity to 10 (on Linux, `export AUTOGRAPH_VERBOSITY=10`) and attach the full output. Cause: module 'gast' has no attribute 'Num'\n",
      "40000/40000 [==============================] - 45s 1ms/sample - loss: 0.6383 - accuracy: 0.7614 - val_loss: 0.4243 - val_accuracy: 0.8422\n",
      "Epoch 2/15\n",
      "40000/40000 [==============================] - 47s 1ms/sample - loss: 0.4022 - accuracy: 0.8519 - val_loss: 0.3436 - val_accuracy: 0.8753\n",
      "Epoch 3/15\n",
      "40000/40000 [==============================] - 48s 1ms/sample - loss: 0.3451 - accuracy: 0.8737 - val_loss: 0.3127 - val_accuracy: 0.8835\n",
      "Epoch 4/15\n",
      "40000/40000 [==============================] - 47s 1ms/sample - loss: 0.3115 - accuracy: 0.8855 - val_loss: 0.2932 - val_accuracy: 0.8916\n",
      "Epoch 5/15\n",
      "40000/40000 [==============================] - 46s 1ms/sample - loss: 0.2892 - accuracy: 0.8945 - val_loss: 0.2818 - val_accuracy: 0.8944\n",
      "Epoch 6/15\n",
      "40000/40000 [==============================] - 46s 1ms/sample - loss: 0.2759 - accuracy: 0.8974 - val_loss: 0.2855 - val_accuracy: 0.8941\n",
      "Epoch 7/15\n",
      "40000/40000 [==============================] - 47s 1ms/sample - loss: 0.2627 - accuracy: 0.9027 - val_loss: 0.2635 - val_accuracy: 0.9023\n",
      "Epoch 8/15\n",
      "40000/40000 [==============================] - 48s 1ms/sample - loss: 0.2501 - accuracy: 0.9080 - val_loss: 0.2601 - val_accuracy: 0.9053\n",
      "Epoch 9/15\n",
      "40000/40000 [==============================] - 46s 1ms/sample - loss: 0.2398 - accuracy: 0.9097 - val_loss: 0.2496 - val_accuracy: 0.9078\n",
      "Epoch 10/15\n",
      "40000/40000 [==============================] - 49s 1ms/sample - loss: 0.2311 - accuracy: 0.9141 - val_loss: 0.2590 - val_accuracy: 0.9058\n",
      "Epoch 11/15\n",
      "40000/40000 [==============================] - 46s 1ms/sample - loss: 0.2250 - accuracy: 0.9156 - val_loss: 0.2440 - val_accuracy: 0.9108\n",
      "Epoch 12/15\n",
      "40000/40000 [==============================] - 47s 1ms/sample - loss: 0.2178 - accuracy: 0.9186 - val_loss: 0.2502 - val_accuracy: 0.9115\n",
      "Epoch 13/15\n",
      "40000/40000 [==============================] - 48s 1ms/sample - loss: 0.2146 - accuracy: 0.9204 - val_loss: 0.2667 - val_accuracy: 0.9078\n",
      "Epoch 14/15\n",
      "40000/40000 [==============================] - 46s 1ms/sample - loss: 0.2121 - accuracy: 0.9203 - val_loss: 0.2474 - val_accuracy: 0.9119\n",
      "Epoch 15/15\n",
      "40000/40000 [==============================] - 46s 1ms/sample - loss: 0.2058 - accuracy: 0.9228 - val_loss: 0.2509 - val_accuracy: 0.9099\n"
     ]
    }
   ],
   "source": [
    "history10 = model10.fit(partial_images, \n",
    "          partial_labels, \n",
    "          epochs=15, \n",
    "          batch_size=64,\n",
    "          validation_data=(val_images, val_labels))"
   ]
  },
  {
   "cell_type": "code",
   "execution_count": 75,
   "metadata": {},
   "outputs": [
    {
     "data": {
      "image/png": "[encoded data removed]",
      "text/plain": [
       "<Figure size 432x288 with 1 Axes>"
      ]
     },
     "metadata": {
      "needs_background": "light"
     },
     "output_type": "display_data"
    },
    {
     "data": {
      "image/png": "[encoded data removed]",
      "text/plain": [
       "<Figure size 432x288 with 1 Axes>"
      ]
     },
     "metadata": {
      "needs_background": "light"
     },
     "output_type": "display_data"
    }
   ],
   "source": [
    "acc = history10.history['accuracy']\n",
    "val_acc = history10.history['val_accuracy']\n",
    "loss = history10.history['loss']\n",
    "val_loss = history10.history['val_loss']\n",
    "\n",
    "epochs = range(1, len(loss) + 1)\n",
    "\n",
    "plt.plot(epochs, acc, 'bo', label='Training acc')\n",
    "plt.plot(epochs, val_acc, 'b', label='Validation acc')\n",
    "plt.title('Training and validation accuracy')\n",
    "plt.legend()\n",
    "\n",
    "plt.figure()\n",
    "\n",
    "plt.plot(epochs, loss, 'bo', label='Training loss')\n",
    "plt.plot(epochs, val_loss, 'b', label='Validation loss')\n",
    "plt.title('Training and validation loss')\n",
    "plt.legend()\n",
    "\n",
    "plt.show()"
   ]
  },
  {
   "cell_type": "markdown",
   "metadata": {},
   "source": [
    "##### Testing"
   ]
  },
  {
   "cell_type": "code",
   "execution_count": 76,
   "metadata": {},
   "outputs": [
    {
     "name": "stdout",
     "output_type": "stream",
     "text": [
      "test_acc: 0.9084\n"
     ]
    }
   ],
   "source": [
    "test_loss, test_acc = model10.evaluate(test_images, test_labels, verbose=0)\n",
    "print('test_acc:', test_acc)"
   ]
  },
  {
   "cell_type": "markdown",
   "metadata": {},
   "source": [
    "##### Results"
   ]
  },
  {
   "cell_type": "markdown",
   "metadata": {},
   "source": [
    "Again, a very similar result to the previous models."
   ]
  },
  {
   "cell_type": "markdown",
   "metadata": {},
   "source": [
    "#### Model 11\n",
    "\n",
    "In this model, we will add a third dropout layer and will change the dropout value."
   ]
  },
  {
   "cell_type": "markdown",
   "metadata": {},
   "source": [
    "##### Build"
   ]
  },
  {
   "cell_type": "code",
   "execution_count": 77,
   "metadata": {},
   "outputs": [],
   "source": [
    "model11 = models.Sequential()\n",
    "model11.add(layers.Conv2D(32, (3, 3), activation='relu', input_shape=(28, 28, 1)))\n",
    "model11.add(layers.MaxPooling2D((2, 2)))\n",
    "model10.add(layers.Dropout(0.5))\n",
    "model11.add(layers.Conv2D(64, (3, 3), activation='relu'))\n",
    "model11.add(layers.MaxPooling2D((2, 2)))\n",
    "model10.add(layers.Dropout(0.5))\n",
    "model11.add(layers.Conv2D(128, (3, 3), activation='relu'))"
   ]
  },
  {
   "cell_type": "code",
   "execution_count": 78,
   "metadata": {},
   "outputs": [],
   "source": [
    "model11.add(layers.Flatten())\n",
    "model11.add(layers.Dense(64, activation='relu'))\n",
    "model10.add(layers.Dropout(0.5))\n",
    "model11.add(layers.Dense(10, activation='softmax'))"
   ]
  },
  {
   "cell_type": "code",
   "execution_count": 79,
   "metadata": {},
   "outputs": [
    {
     "name": "stdout",
     "output_type": "stream",
     "text": [
      "Model: \"sequential_9\"\n",
      "_________________________________________________________________\n",
      "Layer (type)                 Output Shape              Param #   \n",
      "=================================================================\n",
      "conv2d_27 (Conv2D)           (None, 26, 26, 32)        320       \n",
      "_________________________________________________________________\n",
      "max_pooling2d_18 (MaxPooling (None, 13, 13, 32)        0         \n",
      "_________________________________________________________________\n",
      "conv2d_28 (Conv2D)           (None, 11, 11, 64)        18496     \n",
      "_________________________________________________________________\n",
      "max_pooling2d_19 (MaxPooling (None, 5, 5, 64)          0         \n",
      "_________________________________________________________________\n",
      "conv2d_29 (Conv2D)           (None, 3, 3, 128)         73856     \n",
      "_________________________________________________________________\n",
      "flatten_9 (Flatten)          (None, 1152)              0         \n",
      "_________________________________________________________________\n",
      "dense_18 (Dense)             (None, 64)                73792     \n",
      "_________________________________________________________________\n",
      "dense_19 (Dense)             (None, 10)                650       \n",
      "=================================================================\n",
      "Total params: 167,114\n",
      "Trainable params: 167,114\n",
      "Non-trainable params: 0\n",
      "_________________________________________________________________\n"
     ]
    }
   ],
   "source": [
    "model11.summary()"
   ]
  },
  {
   "cell_type": "markdown",
   "metadata": {},
   "source": [
    "##### Compilation"
   ]
  },
  {
   "cell_type": "code",
   "execution_count": 80,
   "metadata": {},
   "outputs": [],
   "source": [
    "model11.compile(optimizer='rmsprop',\n",
    "              loss='categorical_crossentropy',\n",
    "              metrics=['accuracy'])"
   ]
  },
  {
   "cell_type": "markdown",
   "metadata": {},
   "source": [
    "##### Training"
   ]
  },
  {
   "cell_type": "code",
   "execution_count": 81,
   "metadata": {},
   "outputs": [
    {
     "name": "stdout",
     "output_type": "stream",
     "text": [
      "Train on 40000 samples, validate on 20000 samples\n",
      "Epoch 1/15\n",
      "WARNING:tensorflow:Entity <function Function._initialize_uninitialized_variables.<locals>.initialize_variables at 0x000000B40CB67EE8> could not be transformed and will be executed as-is. Please report this to the AutoGraph team. When filing the bug, set the verbosity to 10 (on Linux, `export AUTOGRAPH_VERBOSITY=10`) and attach the full output. Cause: module 'gast' has no attribute 'Num'\n",
      "WARNING: Entity <function Function._initialize_uninitialized_variables.<locals>.initialize_variables at 0x000000B40CB67EE8> could not be transformed and will be executed as-is. Please report this to the AutoGraph team. When filing the bug, set the verbosity to 10 (on Linux, `export AUTOGRAPH_VERBOSITY=10`) and attach the full output. Cause: module 'gast' has no attribute 'Num'\n",
      "40000/40000 [==============================] - 41s 1ms/sample - loss: 0.5856 - accuracy: 0.7830 - val_loss: 0.3854 - val_accuracy: 0.8589\n",
      "Epoch 2/15\n",
      "40000/40000 [==============================] - 45s 1ms/sample - loss: 0.3516 - accuracy: 0.8709 - val_loss: 0.3359 - val_accuracy: 0.8773\n",
      "Epoch 3/15\n",
      "40000/40000 [==============================] - 45s 1ms/sample - loss: 0.2935 - accuracy: 0.8916 - val_loss: 0.3033 - val_accuracy: 0.8857\n",
      "Epoch 4/15\n",
      "40000/40000 [==============================] - 44s 1ms/sample - loss: 0.2588 - accuracy: 0.9049 - val_loss: 0.2792 - val_accuracy: 0.9006\n",
      "Epoch 5/15\n",
      "40000/40000 [==============================] - 40s 988us/sample - loss: 0.2320 - accuracy: 0.9154 - val_loss: 0.2851 - val_accuracy: 0.8946\n",
      "Epoch 6/15\n",
      "40000/40000 [==============================] - 40s 988us/sample - loss: 0.2089 - accuracy: 0.9226 - val_loss: 0.2665 - val_accuracy: 0.9057\n",
      "Epoch 7/15\n",
      "40000/40000 [==============================] - 38s 959us/sample - loss: 0.1882 - accuracy: 0.9300 - val_loss: 0.2891 - val_accuracy: 0.8982\n",
      "Epoch 8/15\n",
      "40000/40000 [==============================] - 39s 970us/sample - loss: 0.1683 - accuracy: 0.9370 - val_loss: 0.2823 - val_accuracy: 0.8992\n",
      "Epoch 9/15\n",
      "40000/40000 [==============================] - 39s 963us/sample - loss: 0.1512 - accuracy: 0.9446 - val_loss: 0.2947 - val_accuracy: 0.9050\n",
      "Epoch 10/15\n",
      "40000/40000 [==============================] - 38s 961us/sample - loss: 0.1338 - accuracy: 0.9520 - val_loss: 0.2970 - val_accuracy: 0.9077\n",
      "Epoch 11/15\n",
      "40000/40000 [==============================] - 39s 974us/sample - loss: 0.1219 - accuracy: 0.9556 - val_loss: 0.2941 - val_accuracy: 0.9065\n",
      "Epoch 12/15\n",
      "40000/40000 [==============================] - 39s 977us/sample - loss: 0.1103 - accuracy: 0.9597 - val_loss: 0.3085 - val_accuracy: 0.9099\n",
      "Epoch 13/15\n",
      "40000/40000 [==============================] - 46s 1ms/sample - loss: 0.1005 - accuracy: 0.9633 - val_loss: 0.3518 - val_accuracy: 0.9089\n",
      "Epoch 14/15\n",
      "40000/40000 [==============================] - 41s 1ms/sample - loss: 0.0908 - accuracy: 0.9665 - val_loss: 0.3664 - val_accuracy: 0.9081\n",
      "Epoch 15/15\n",
      "40000/40000 [==============================] - 42s 1ms/sample - loss: 0.0824 - accuracy: 0.9699 - val_loss: 0.4009 - val_accuracy: 0.9039\n"
     ]
    }
   ],
   "source": [
    "history11 = model11.fit(partial_images, \n",
    "          partial_labels, \n",
    "          epochs=15, \n",
    "          batch_size=64,\n",
    "          validation_data=(val_images, val_labels))"
   ]
  },
  {
   "cell_type": "code",
   "execution_count": 82,
   "metadata": {},
   "outputs": [
    {
     "data": {
      "image/png": "[encoded data removed]",
      "text/plain": [
       "<Figure size 432x288 with 1 Axes>"
      ]
     },
     "metadata": {
      "needs_background": "light"
     },
     "output_type": "display_data"
    },
    {
     "data": {
      "image/png": "[encoded data removed]",
      "text/plain": [
       "<Figure size 432x288 with 1 Axes>"
      ]
     },
     "metadata": {
      "needs_background": "light"
     },
     "output_type": "display_data"
    }
   ],
   "source": [
    "acc = history11.history['accuracy']\n",
    "val_acc = history11.history['val_accuracy']\n",
    "loss = history11.history['loss']\n",
    "val_loss = history11.history['val_loss']\n",
    "\n",
    "epochs = range(1, len(loss) + 1)\n",
    "\n",
    "plt.plot(epochs, acc, 'bo', label='Training acc')\n",
    "plt.plot(epochs, val_acc, 'b', label='Validation acc')\n",
    "plt.title('Training and validation accuracy')\n",
    "plt.legend()\n",
    "\n",
    "plt.figure()\n",
    "\n",
    "plt.plot(epochs, loss, 'bo', label='Training loss')\n",
    "plt.plot(epochs, val_loss, 'b', label='Validation loss')\n",
    "plt.title('Training and validation loss')\n",
    "plt.legend()\n",
    "\n",
    "plt.show()"
   ]
  },
  {
   "cell_type": "markdown",
   "metadata": {},
   "source": [
    "##### Testing"
   ]
  },
  {
   "cell_type": "code",
   "execution_count": 83,
   "metadata": {},
   "outputs": [
    {
     "name": "stdout",
     "output_type": "stream",
     "text": [
      "test_acc: 0.8993\n"
     ]
    }
   ],
   "source": [
    "test_loss, test_acc = model11.evaluate(test_images, test_labels, verbose=0)\n",
    "print('test_acc:', test_acc)"
   ]
  },
  {
   "cell_type": "markdown",
   "metadata": {},
   "source": [
    "##### Results"
   ]
  },
  {
   "cell_type": "markdown",
   "metadata": {},
   "source": [
    "No change in the accuracy test results."
   ]
  },
  {
   "cell_type": "markdown",
   "metadata": {},
   "source": [
    "#### Model 12\n",
    "\n",
    "At this point, the changes we are making to the models' hyper-parameters don't seem to be making much impact on the training. This will be the last model we create, and for it, we will add 3 different dropout layers with different values, in hope to get some change in the test results. "
   ]
  },
  {
   "cell_type": "markdown",
   "metadata": {},
   "source": [
    "##### Build"
   ]
  },
  {
   "cell_type": "code",
   "execution_count": 85,
   "metadata": {},
   "outputs": [],
   "source": [
    "model12 = models.Sequential()\n",
    "model12.add(layers.Conv2D(32, (3, 3), activation='relu', input_shape=(28, 28, 1)))\n",
    "model12.add(layers.MaxPooling2D((2, 2)))\n",
    "model10.add(layers.Dropout(0.15))\n",
    "model12.add(layers.Conv2D(64, (3, 3), activation='relu'))\n",
    "model12.add(layers.MaxPooling2D((2, 2)))\n",
    "model10.add(layers.Dropout(0.15))\n",
    "model12.add(layers.Conv2D(128, (3, 3), activation='relu'))"
   ]
  },
  {
   "cell_type": "code",
   "execution_count": 86,
   "metadata": {},
   "outputs": [],
   "source": [
    "model12.add(layers.Flatten())\n",
    "model12.add(layers.Dense(64, activation='relu'))\n",
    "model10.add(layers.Dropout(0.5))\n",
    "model12.add(layers.Dense(10, activation='softmax'))"
   ]
  },
  {
   "cell_type": "code",
   "execution_count": 87,
   "metadata": {},
   "outputs": [
    {
     "name": "stdout",
     "output_type": "stream",
     "text": [
      "Model: \"sequential_10\"\n",
      "_________________________________________________________________\n",
      "Layer (type)                 Output Shape              Param #   \n",
      "=================================================================\n",
      "conv2d_30 (Conv2D)           (None, 26, 26, 32)        320       \n",
      "_________________________________________________________________\n",
      "max_pooling2d_20 (MaxPooling (None, 13, 13, 32)        0         \n",
      "_________________________________________________________________\n",
      "conv2d_31 (Conv2D)           (None, 11, 11, 64)        18496     \n",
      "_________________________________________________________________\n",
      "max_pooling2d_21 (MaxPooling (None, 5, 5, 64)          0         \n",
      "_________________________________________________________________\n",
      "conv2d_32 (Conv2D)           (None, 3, 3, 128)         73856     \n",
      "_________________________________________________________________\n",
      "flatten_10 (Flatten)         (None, 1152)              0         \n",
      "_________________________________________________________________\n",
      "dense_20 (Dense)             (None, 64)                73792     \n",
      "_________________________________________________________________\n",
      "dense_21 (Dense)             (None, 10)                650       \n",
      "=================================================================\n",
      "Total params: 167,114\n",
      "Trainable params: 167,114\n",
      "Non-trainable params: 0\n",
      "_________________________________________________________________\n"
     ]
    }
   ],
   "source": [
    "model12.summary()"
   ]
  },
  {
   "cell_type": "markdown",
   "metadata": {},
   "source": [
    "##### Compilation"
   ]
  },
  {
   "cell_type": "code",
   "execution_count": 88,
   "metadata": {},
   "outputs": [],
   "source": [
    "model12.compile(optimizer='rmsprop',\n",
    "              loss='categorical_crossentropy',\n",
    "              metrics=['accuracy'])"
   ]
  },
  {
   "cell_type": "markdown",
   "metadata": {},
   "source": [
    "##### Training"
   ]
  },
  {
   "cell_type": "code",
   "execution_count": 89,
   "metadata": {},
   "outputs": [
    {
     "name": "stdout",
     "output_type": "stream",
     "text": [
      "Train on 40000 samples, validate on 20000 samples\n",
      "Epoch 1/15\n",
      "WARNING:tensorflow:Entity <function Function._initialize_uninitialized_variables.<locals>.initialize_variables at 0x000000B40A2204C8> could not be transformed and will be executed as-is. Please report this to the AutoGraph team. When filing the bug, set the verbosity to 10 (on Linux, `export AUTOGRAPH_VERBOSITY=10`) and attach the full output. Cause: module 'gast' has no attribute 'Num'\n",
      "WARNING: Entity <function Function._initialize_uninitialized_variables.<locals>.initialize_variables at 0x000000B40A2204C8> could not be transformed and will be executed as-is. Please report this to the AutoGraph team. When filing the bug, set the verbosity to 10 (on Linux, `export AUTOGRAPH_VERBOSITY=10`) and attach the full output. Cause: module 'gast' has no attribute 'Num'\n",
      "40000/40000 [==============================] - 40s 990us/sample - loss: 0.6121 - accuracy: 0.7747 - val_loss: 0.3983 - val_accuracy: 0.8577\n",
      "Epoch 2/15\n",
      "40000/40000 [==============================] - 42s 1ms/sample - loss: 0.3630 - accuracy: 0.8682 - val_loss: 0.3275 - val_accuracy: 0.8801\n",
      "Epoch 3/15\n",
      "40000/40000 [==============================] - 43s 1ms/sample - loss: 0.3017 - accuracy: 0.8899 - val_loss: 0.3020 - val_accuracy: 0.8859\n",
      "Epoch 4/15\n",
      "40000/40000 [==============================] - 42s 1ms/sample - loss: 0.2674 - accuracy: 0.9021 - val_loss: 0.2716 - val_accuracy: 0.9008\n",
      "Epoch 5/15\n",
      "40000/40000 [==============================] - 42s 1ms/sample - loss: 0.2383 - accuracy: 0.9123 - val_loss: 0.2761 - val_accuracy: 0.9003\n",
      "Epoch 6/15\n",
      "40000/40000 [==============================] - 40s 996us/sample - loss: 0.2140 - accuracy: 0.9212 - val_loss: 0.2775 - val_accuracy: 0.9014\n",
      "Epoch 7/15\n",
      "40000/40000 [==============================] - 40s 998us/sample - loss: 0.1961 - accuracy: 0.9276 - val_loss: 0.2603 - val_accuracy: 0.9061\n",
      "Epoch 8/15\n",
      "40000/40000 [==============================] - 41s 1ms/sample - loss: 0.1766 - accuracy: 0.9343 - val_loss: 0.2757 - val_accuracy: 0.9066\n",
      "Epoch 9/15\n",
      "40000/40000 [==============================] - 41s 1ms/sample - loss: 0.1601 - accuracy: 0.9409 - val_loss: 0.2713 - val_accuracy: 0.9048\n",
      "Epoch 10/15\n",
      "40000/40000 [==============================] - 40s 1ms/sample - loss: 0.1448 - accuracy: 0.9472 - val_loss: 0.2949 - val_accuracy: 0.9072\n",
      "Epoch 11/15\n",
      "40000/40000 [==============================] - 42s 1ms/sample - loss: 0.1323 - accuracy: 0.9510 - val_loss: 0.3137 - val_accuracy: 0.9064\n",
      "Epoch 12/15\n",
      "40000/40000 [==============================] - 41s 1ms/sample - loss: 0.1208 - accuracy: 0.9555 - val_loss: 0.3433 - val_accuracy: 0.9049\n",
      "Epoch 13/15\n",
      "40000/40000 [==============================] - 43s 1ms/sample - loss: 0.1077 - accuracy: 0.9608 - val_loss: 0.2998 - val_accuracy: 0.9076\n",
      "Epoch 14/15\n",
      "40000/40000 [==============================] - 43s 1ms/sample - loss: 0.0991 - accuracy: 0.9640 - val_loss: 0.3685 - val_accuracy: 0.9010\n",
      "Epoch 15/15\n",
      "40000/40000 [==============================] - 45s 1ms/sample - loss: 0.0908 - accuracy: 0.9658 - val_loss: 0.3488 - val_accuracy: 0.9063\n"
     ]
    }
   ],
   "source": [
    "history12 = model12.fit(partial_images, \n",
    "          partial_labels, \n",
    "          epochs=15, \n",
    "          batch_size=64,\n",
    "          validation_data=(val_images, val_labels))"
   ]
  },
  {
   "cell_type": "code",
   "execution_count": 90,
   "metadata": {},
   "outputs": [
    {
     "data": {
      "image/png": "[encoded data removed]",
      "text/plain": [
       "<Figure size 432x288 with 1 Axes>"
      ]
     },
     "metadata": {
      "needs_background": "light"
     },
     "output_type": "display_data"
    },
    {
     "data": {
      "image/png": "[encoded data removed]",
      "text/plain": [
       "<Figure size 432x288 with 1 Axes>"
      ]
     },
     "metadata": {
      "needs_background": "light"
     },
     "output_type": "display_data"
    }
   ],
   "source": [
    "acc = history12.history['accuracy']\n",
    "val_acc = history12.history['val_accuracy']\n",
    "loss = history12.history['loss']\n",
    "val_loss = history12.history['val_loss']\n",
    "\n",
    "epochs = range(1, len(loss) + 1)\n",
    "\n",
    "plt.plot(epochs, acc, 'bo', label='Training acc')\n",
    "plt.plot(epochs, val_acc, 'b', label='Validation acc')\n",
    "plt.title('Training and validation accuracy')\n",
    "plt.legend()\n",
    "\n",
    "plt.figure()\n",
    "\n",
    "plt.plot(epochs, loss, 'bo', label='Training loss')\n",
    "plt.plot(epochs, val_loss, 'b', label='Validation loss')\n",
    "plt.title('Training and validation loss')\n",
    "plt.legend()\n",
    "\n",
    "plt.show()"
   ]
  },
  {
   "cell_type": "markdown",
   "metadata": {},
   "source": [
    "##### Testing"
   ]
  },
  {
   "cell_type": "code",
   "execution_count": 91,
   "metadata": {},
   "outputs": [
    {
     "name": "stdout",
     "output_type": "stream",
     "text": [
      "test_acc: 0.9037\n"
     ]
    }
   ],
   "source": [
    "test_loss, test_acc = model12.evaluate(test_images, test_labels, verbose=0)\n",
    "print('test_acc:', test_acc)"
   ]
  },
  {
   "cell_type": "markdown",
   "metadata": {},
   "source": [
    "##### Results"
   ]
  },
  {
   "cell_type": "markdown",
   "metadata": {},
   "source": [
    "About 90% accuracy once again."
   ]
  },
  {
   "cell_type": "markdown",
   "metadata": {},
   "source": [
    "## Results\n",
    "\n",
    "The test results from the different models have been recorded on the table below for easier visualization."
   ]
  },
  {
   "cell_type": "markdown",
   "metadata": {},
   "source": [
    "|Run | Convolutional Layers | Dense Layers | Batch Size | Dropout | Test Accuracy \n",
    "|:--:|:-----:|:----:|:----:|:----:|:----:|\n",
    "| 1 | 32, 64, 64 | 64, 10 | 64 | - | 0.8947\n",
    "| 2 | 32, 64, 128 | 64, 10 | 64 | - | 0.9105 \n",
    "| 3 | 64, 128, 128 | 64, 10 | 64 | - | 0.9052\n",
    "| 4 | 32, 64, 128 | 128, 10 | 64 | - | 0.9085\n",
    "| 5 | 32, 64, 128 | 256, 10 | 64 | - | 0.8993\n",
    "| 6 | 32, 64, 128 | 32, 10 | 64 | - | 0.8992\n",
    "| 7 | 32, 64, 128 | 64, 10 | 128 | - | 0.9079\n",
    "| 8 | 32, 64, 128 | 64, 10 | 256 | - | 0.8862\n",
    "| 9 | 32, 64, 128 | 64, 10 | 32 | - | 0.9017\n",
    "| 10 | 32, 64, 128 | 64, 10 | 64 | 2 Layers (0.25) | 0.9084\n",
    "| 11 | 32, 64, 128 | 64, 10 | 64 | 3 Layers (0.5) | 0.8993\n",
    "| 12 | 32, 64, 128 | 64, 10 | 64 | 3 Layers (0.15, 0.15, 0.5) | 0.9037"
   ]
  },
  {
   "cell_type": "markdown",
   "metadata": {},
   "source": [
    "As we can see on the table, the test results from the different models created are similar. There is really little variation in the accuracy that these models obtain, which makes it seem like the changes made to the hyper-parameters do not really matter almost at all."
   ]
  },
  {
   "cell_type": "markdown",
   "metadata": {},
   "source": [
    "## Evaluation"
   ]
  },
  {
   "cell_type": "markdown",
   "metadata": {},
   "source": [
    "I have found the results from the accuracy tests very surprising for a couple of reasons. First, is the fact that the hyper-parameter tweaking made almost no change in these results. This is a very big change from our previous coursework, where we were able to really make a difference in the training by finding the optimum parameter settings, which makes this quite unexpected. Secondly, the accuracy obtained was not as high as expected. A 2% accuracy increase could be a significant change in certain situations, but it is a relatively small improvement.\n",
    "\n",
    "Although almost all the convolutional network models we created and tested in this coursework obtained a better accuracy than our most successful densely connected model, the accuracy obtained is still not ideal. Therefore, we can say that a convolutional network is indeed a better model for the Fashion-MNIST database than a densely connected network, but there is still much room for improvement. Even with over 91% accuracy, this model is still not reliable enough to use in a real-life scenario."
   ]
  }
 ],
 "metadata": {
  "kernelspec": {
   "display_name": "Python 3",
   "language": "python",
   "name": "python3"
  },
  "language_info": {
   "codemirror_mode": {
    "name": "ipython",
    "version": 3
   },
   "file_extension": ".py",
   "mimetype": "text/x-python",
   "name": "python",
   "nbconvert_exporter": "python",
   "pygments_lexer": "ipython3",
   "version": "3.7.4"
  }
 },
 "nbformat": 4,
 "nbformat_minor": 2
}
